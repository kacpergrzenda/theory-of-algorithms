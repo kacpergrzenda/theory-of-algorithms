{
 "cells": [
  {
   "cell_type": "markdown",
   "id": "f2218bd2-3d16-435a-9657-4630d83f39ae",
   "metadata": {},
   "source": [
    "## Post Corresponence Problem\n",
    "https://en.wikipedia.org/wiki/Post_correspondence_problem\n",
    "***"
   ]
  },
  {
   "cell_type": "code",
   "execution_count": 1,
   "id": "54992317-7005-4ae8-8032-87568565e5f1",
   "metadata": {},
   "outputs": [],
   "source": [
    "A = {'a', 'b'}"
   ]
  },
  {
   "cell_type": "code",
   "execution_count": 2,
   "id": "71f5bf31-113a-471f-a63f-cf99e6586728",
   "metadata": {},
   "outputs": [],
   "source": [
    "L1 = ['a', 'ab', 'bba']"
   ]
  },
  {
   "cell_type": "code",
   "execution_count": 3,
   "id": "de5622fd-9325-4392-9310-b7b67630a096",
   "metadata": {},
   "outputs": [],
   "source": [
    "L2 = ['baa', 'aa', 'bb']"
   ]
  },
  {
   "cell_type": "code",
   "execution_count": 4,
   "id": "566a0b4a-12ab-4366-9614-7a08eda0f156",
   "metadata": {},
   "outputs": [],
   "source": [
    "S = [2, 1, 2, 0]"
   ]
  },
  {
   "cell_type": "code",
   "execution_count": 5,
   "id": "d8efc748-90fb-4b46-a6b2-1cb9037aceab",
   "metadata": {},
   "outputs": [
    {
     "data": {
      "text/plain": [
       "'bbaabbbaa'"
      ]
     },
     "execution_count": 5,
     "metadata": {},
     "output_type": "execute_result"
    }
   ],
   "source": [
    "# Apply S to L1.\n",
    "'bba' + 'ab' + 'bba' + 'a'"
   ]
  },
  {
   "cell_type": "code",
   "execution_count": 6,
   "id": "17e00b24-7294-4c15-9e2b-16d8bd74e911",
   "metadata": {},
   "outputs": [
    {
     "data": {
      "text/plain": [
       "'bbaabbbaa'"
      ]
     },
     "execution_count": 6,
     "metadata": {},
     "output_type": "execute_result"
    }
   ],
   "source": [
    "# Apply S to L2.\n",
    "'bb' + 'aa' + 'bb' + 'baa'"
   ]
  },
  {
   "cell_type": "code",
   "execution_count": 7,
   "id": "cce55fe8-e601-474a-b0d8-5c8b37992e51",
   "metadata": {},
   "outputs": [],
   "source": [
    "def apply(S, L):\n",
    "    S_on_L = [L[i] for i in S]\n",
    "    return ''.join(S_on_L)"
   ]
  },
  {
   "cell_type": "code",
   "execution_count": 8,
   "id": "bead9528-e3b1-499e-b3ac-5e3a2f600f5b",
   "metadata": {},
   "outputs": [
    {
     "data": {
      "text/plain": [
       "'bbaabbbaa'"
      ]
     },
     "execution_count": 8,
     "metadata": {},
     "output_type": "execute_result"
    }
   ],
   "source": [
    "apply(S, L1)"
   ]
  },
  {
   "cell_type": "code",
   "execution_count": 9,
   "id": "4d1e4560-a5fb-4c6b-a9fc-e35302d2f5ef",
   "metadata": {},
   "outputs": [
    {
     "data": {
      "text/plain": [
       "[2, 1, 2, 0]"
      ]
     },
     "execution_count": 9,
     "metadata": {},
     "output_type": "execute_result"
    }
   ],
   "source": [
    "S"
   ]
  },
  {
   "cell_type": "code",
   "execution_count": 10,
   "id": "3aa59714-a00d-4c67-a782-66096925f53b",
   "metadata": {},
   "outputs": [
    {
     "data": {
      "text/plain": [
       "['a', 'ab', 'bba']"
      ]
     },
     "execution_count": 10,
     "metadata": {},
     "output_type": "execute_result"
    }
   ],
   "source": [
    "L1"
   ]
  },
  {
   "cell_type": "code",
   "execution_count": 11,
   "id": "8ef7ad7c-3fe4-4dc9-85e2-cff48e5e839a",
   "metadata": {},
   "outputs": [
    {
     "data": {
      "text/plain": [
       "['bba', 'ab', 'bba', 'a']"
      ]
     },
     "execution_count": 11,
     "metadata": {},
     "output_type": "execute_result"
    }
   ],
   "source": [
    "[L1[i] for i in S]"
   ]
  },
  {
   "cell_type": "code",
   "execution_count": 12,
   "id": "47420d89-9346-4e81-92fd-63ee2d24e490",
   "metadata": {},
   "outputs": [
    {
     "data": {
      "text/plain": [
       "'oneJOINtwoJOINthree'"
      ]
     },
     "execution_count": 12,
     "metadata": {},
     "output_type": "execute_result"
    }
   ],
   "source": [
    "'JOIN'.join(['one', 'two', 'three'])"
   ]
  },
  {
   "cell_type": "code",
   "execution_count": 13,
   "id": "d769bb62-18a9-404e-b3e6-8d7a34d82a3a",
   "metadata": {},
   "outputs": [
    {
     "data": {
      "text/plain": [
       "'bbaabbbaa'"
      ]
     },
     "execution_count": 13,
     "metadata": {},
     "output_type": "execute_result"
    }
   ],
   "source": [
    "apply(S, L1)"
   ]
  },
  {
   "cell_type": "code",
   "execution_count": 14,
   "id": "0e65d401-8995-43a8-96c3-bfcc2408a7af",
   "metadata": {},
   "outputs": [
    {
     "data": {
      "text/plain": [
       "'bbaabbbaa'"
      ]
     },
     "execution_count": 14,
     "metadata": {},
     "output_type": "execute_result"
    }
   ],
   "source": [
    "apply(S, L2)"
   ]
  },
  {
   "cell_type": "code",
   "execution_count": 15,
   "id": "9bbd2463-fc1f-46f3-a508-31d83b89340f",
   "metadata": {},
   "outputs": [
    {
     "data": {
      "text/plain": [
       "True"
      ]
     },
     "execution_count": 15,
     "metadata": {},
     "output_type": "execute_result"
    }
   ],
   "source": [
    "apply(S, L1) == apply(S, L2)"
   ]
  },
  {
   "cell_type": "code",
   "execution_count": 16,
   "id": "6589452d-820b-493e-a16b-a7f7fc427def",
   "metadata": {},
   "outputs": [
    {
     "data": {
      "text/plain": [
       "'bbaabbbaabbaabbbaa'"
      ]
     },
     "execution_count": 16,
     "metadata": {},
     "output_type": "execute_result"
    }
   ],
   "source": [
    "apply([2, 1, 2, 0, 2, 1, 2, 0], L1)"
   ]
  },
  {
   "cell_type": "code",
   "execution_count": 17,
   "id": "8a28b433-7089-4a75-afe2-bc19a11710e4",
   "metadata": {},
   "outputs": [
    {
     "data": {
      "text/plain": [
       "'bbaabbbaabbaabbbaa'"
      ]
     },
     "execution_count": 17,
     "metadata": {},
     "output_type": "execute_result"
    }
   ],
   "source": [
    "apply([2, 1, 2, 0, 2, 1, 2, 0], L2)"
   ]
  },
  {
   "cell_type": "markdown",
   "id": "948c4cb2-8848-464d-801d-20ff542a1750",
   "metadata": {},
   "source": [
    "## No Correspondence\n",
    "***"
   ]
  },
  {
   "cell_type": "code",
   "execution_count": 18,
   "id": "a013fe51-4a24-44f3-858d-2f4507b28b76",
   "metadata": {},
   "outputs": [],
   "source": [
    "L1 = ['ab', 'bba', 'ca']"
   ]
  },
  {
   "cell_type": "code",
   "execution_count": 19,
   "id": "92018843-6c46-42ed-92d1-39a0ea759ffb",
   "metadata": {},
   "outputs": [],
   "source": [
    "L2 = ['aa', 'bb', 'ca']"
   ]
  },
  {
   "cell_type": "code",
   "execution_count": 20,
   "id": "1e21ac3f-ce0e-4203-a652-05ecfec1685d",
   "metadata": {},
   "outputs": [],
   "source": [
    "L3 = ['', '', '']"
   ]
  },
  {
   "cell_type": "code",
   "execution_count": 21,
   "id": "1edd2f2a-20b6-4ce5-9135-7b6069438c9d",
   "metadata": {},
   "outputs": [],
   "source": [
    "# S = ?"
   ]
  },
  {
   "cell_type": "markdown",
   "id": "f3c03b2a-1ecb-4995-90fd-8a8bb90a1bf4",
   "metadata": {},
   "source": [
    "$ (L_1,L_2) \\rightarrow \\{True, False\\} \\qquad |L_1| = |L_2| $"
   ]
  },
  {
   "cell_type": "markdown",
   "id": "9bb0438d-a051-4f11-a6ce-080c0a41a8f7",
   "metadata": {},
   "source": [
    "## Bounded PCP\n",
    "***\n",
    "\n",
    "$ |S| \\leq K \\qquad K \\in \\mathbb{N} $"
   ]
  },
  {
   "cell_type": "code",
   "execution_count": 22,
   "id": "5e09701e-2c1b-4bb8-ab7b-13dc1128d937",
   "metadata": {},
   "outputs": [],
   "source": [
    "# Check if two objects are equal to each other.\n",
    "def correspond(w1, w2):\n",
    "    if w1 == w2:\n",
    "        print(w1 + \" == \" + w2)\n",
    "        return True\n",
    "    else:\n",
    "        print(w1 + \" != \" + w2)\n",
    "        return False\n",
    "\n",
    "# Bounded PCP problem with a constant number: K.\n",
    "def bpcp_solver(L1, L2, K):\n",
    "    temp = \"\"\n",
    "    temp1 = \"\"\n",
    "    for i in range(K+1):\n",
    "        temp = temp + L1[i]\n",
    "        temp1 = temp1 + L2[i]\n",
    "\n",
    "    if correspond(temp, temp1):\n",
    "        return True\n",
    "    else:\n",
    "        return False"
   ]
  },
  {
   "cell_type": "code",
   "execution_count": 23,
   "id": "eb79039a-e4c7-4f92-b028-8f077d06844b",
   "metadata": {},
   "outputs": [
    {
     "name": "stdout",
     "output_type": "stream",
     "text": [
      "abbba != aabb\n"
     ]
    },
    {
     "data": {
      "text/plain": [
       "False"
      ]
     },
     "execution_count": 23,
     "metadata": {},
     "output_type": "execute_result"
    }
   ],
   "source": [
    "bpcp_solver(L1, L2, 1)"
   ]
  },
  {
   "cell_type": "code",
   "execution_count": 24,
   "id": "1429dc5f-e8a7-4b90-bedd-f6e8aa7dfb9a",
   "metadata": {},
   "outputs": [
    {
     "name": "stdout",
     "output_type": "stream",
     "text": [
      "abbbaca != aabbca\n"
     ]
    },
    {
     "data": {
      "text/plain": [
       "False"
      ]
     },
     "execution_count": 24,
     "metadata": {},
     "output_type": "execute_result"
    }
   ],
   "source": [
    "bpcp_solver(L1, L2, 2)"
   ]
  },
  {
   "cell_type": "markdown",
   "id": "d9e55fc4-4091-423f-92f3-5bcb6b0000c7",
   "metadata": {},
   "source": [
    "## Bounded PCP using Tuples & Itertools\n",
    "* https://realpython.com/python-itertools/\n",
    "* https://docs.python.org/3/tutorial/datastructures.html#tuples-and-sequences\n",
    "***"
   ]
  },
  {
   "cell_type": "code",
   "execution_count": 25,
   "id": "06454e3f-f144-4b05-8316-5d6564adcaed",
   "metadata": {},
   "outputs": [],
   "source": [
    "# List\n",
    "l = [1,2,3]"
   ]
  },
  {
   "cell_type": "code",
   "execution_count": 26,
   "id": "e8f65696-f610-42dd-a350-987632963629",
   "metadata": {},
   "outputs": [],
   "source": [
    "# Tuple (Immutable list)\n",
    "t = (1, 2, 3)"
   ]
  },
  {
   "cell_type": "code",
   "execution_count": 27,
   "id": "35febe7e-431e-41e3-9f2c-2621e5c4a192",
   "metadata": {},
   "outputs": [
    {
     "data": {
      "text/plain": [
       "529344067295497451"
      ]
     },
     "execution_count": 27,
     "metadata": {},
     "output_type": "execute_result"
    }
   ],
   "source": [
    "# Can't hash a list.\n",
    "# hash(l)\n",
    "# Gives an error.\n",
    "\n",
    "# Can hash a tuple.\n",
    "hash(t)"
   ]
  },
  {
   "cell_type": "code",
   "execution_count": 28,
   "id": "bf677f9f-9fdd-46d0-9ad5-a211378864a7",
   "metadata": {},
   "outputs": [
    {
     "data": {
      "text/plain": [
       "'0x7589b9fe71bcceb'"
      ]
     },
     "execution_count": 28,
     "metadata": {},
     "output_type": "execute_result"
    }
   ],
   "source": [
    "# Usual output from a hash function is in hex, (Sha256) crptography. \n",
    "hex(hash(t))"
   ]
  },
  {
   "cell_type": "code",
   "execution_count": 29,
   "id": "3efc5af4-7af1-4fe3-9d03-a14f6cf78beb",
   "metadata": {},
   "outputs": [
    {
     "data": {
      "text/plain": [
       "{1, 2, 3}"
      ]
     },
     "execution_count": 29,
     "metadata": {},
     "output_type": "execute_result"
    }
   ],
   "source": [
    "# Some contexts require the round brackets.\n",
    "# Set of tuples\n",
    "set((1, 2, 3))"
   ]
  },
  {
   "cell_type": "code",
   "execution_count": 30,
   "id": "75ef5be5-0375-49af-9d4a-52fd71d88309",
   "metadata": {},
   "outputs": [],
   "source": [
    "# A very useful module in the Python standard library.\n",
    "import itertools as it"
   ]
  },
  {
   "cell_type": "code",
   "execution_count": 31,
   "id": "a7dd8ff3-406e-4517-a05d-297865e1d779",
   "metadata": {},
   "outputs": [
    {
     "data": {
      "text/plain": [
       "[('A', 'B', 'C'),\n",
       " ('A', 'C', 'B'),\n",
       " ('B', 'A', 'C'),\n",
       " ('B', 'C', 'A'),\n",
       " ('C', 'A', 'B'),\n",
       " ('C', 'B', 'A')]"
      ]
     },
     "execution_count": 31,
     "metadata": {},
     "output_type": "execute_result"
    }
   ],
   "source": [
    "# Permutations.\n",
    "list(it.permutations('ABC'))"
   ]
  },
  {
   "cell_type": "code",
   "execution_count": 32,
   "id": "8c97e8b7-7893-4eed-8dc2-86f661d6a8fd",
   "metadata": {},
   "outputs": [
    {
     "data": {
      "text/plain": [
       "[(0, 0, 0),\n",
       " (0, 0, 1),\n",
       " (0, 0, 2),\n",
       " (0, 1, 0),\n",
       " (0, 1, 1),\n",
       " (0, 1, 2),\n",
       " (0, 2, 0),\n",
       " (0, 2, 1),\n",
       " (0, 2, 2),\n",
       " (1, 0, 0),\n",
       " (1, 0, 1),\n",
       " (1, 0, 2),\n",
       " (1, 1, 0),\n",
       " (1, 1, 1),\n",
       " (1, 1, 2),\n",
       " (1, 2, 0),\n",
       " (1, 2, 1),\n",
       " (1, 2, 2),\n",
       " (2, 0, 0),\n",
       " (2, 0, 1),\n",
       " (2, 0, 2),\n",
       " (2, 1, 0),\n",
       " (2, 1, 1),\n",
       " (2, 1, 2),\n",
       " (2, 2, 0),\n",
       " (2, 2, 1),\n",
       " (2, 2, 2)]"
      ]
     },
     "execution_count": 32,
     "metadata": {},
     "output_type": "execute_result"
    }
   ],
   "source": [
    "list(it.product(range(len(L1)), range(len(L1)), range(len(L1))))"
   ]
  },
  {
   "cell_type": "code",
   "execution_count": 33,
   "id": "c7ab914a-7eb9-4dca-88e3-5c4d642266c7",
   "metadata": {},
   "outputs": [],
   "source": [
    "a = 'a'\n",
    "b = 'b'"
   ]
  },
  {
   "cell_type": "code",
   "execution_count": 34,
   "id": "a8581881-be6f-4bfd-95f4-0c9f1c8c3e0c",
   "metadata": {},
   "outputs": [],
   "source": [
    "# List 1.\n",
    "L1 = ((a, b), (b, b, a))\n",
    "# List 2.\n",
    "L2 = ((a, a), (b, b))"
   ]
  },
  {
   "cell_type": "code",
   "execution_count": 35,
   "id": "50d994b7-7723-451f-bba1-ad26c1c96373",
   "metadata": {},
   "outputs": [
    {
     "data": {
      "text/plain": [
       "[(('a', 'b'), ('b', 'b', 'a')), (('b', 'b', 'a'), ('a', 'b'))]"
      ]
     },
     "execution_count": 35,
     "metadata": {},
     "output_type": "execute_result"
    }
   ],
   "source": [
    "# Permutations.\n",
    "L3 = list(it.permutations(L1))\n",
    "L3"
   ]
  },
  {
   "cell_type": "code",
   "execution_count": 36,
   "id": "d449c658-6f69-4cb4-b750-6513bd351561",
   "metadata": {},
   "outputs": [
    {
     "data": {
      "text/plain": [
       "[((('a', 'b'), ('b', 'b', 'a')),), ((('b', 'b', 'a'), ('a', 'b')),)]"
      ]
     },
     "execution_count": 36,
     "metadata": {},
     "output_type": "execute_result"
    }
   ],
   "source": [
    "list(it.product(L3))"
   ]
  },
  {
   "cell_type": "code",
   "execution_count": 52,
   "id": "31d2672d-e68b-4df9-8e4a-944caa49e581",
   "metadata": {},
   "outputs": [
    {
     "name": "stdout",
     "output_type": "stream",
     "text": [
      "(0,)\n",
      "(1,)\n",
      "(0, 0)\n",
      "(0, 1)\n",
      "(1, 0)\n",
      "(1, 1)\n",
      "(0, 0, 0)\n",
      "(0, 0, 1)\n",
      "(0, 1, 0)\n",
      "(0, 1, 1)\n",
      "(1, 0, 0)\n",
      "(1, 0, 1)\n",
      "(1, 1, 0)\n",
      "(1, 1, 1)\n",
      "(0, 0, 0, 0)\n",
      "(0, 0, 0, 1)\n",
      "(0, 0, 1, 0)\n",
      "(0, 0, 1, 1)\n",
      "(0, 1, 0, 0)\n",
      "(0, 1, 0, 1)\n",
      "(0, 1, 1, 0)\n",
      "(0, 1, 1, 1)\n",
      "(1, 0, 0, 0)\n",
      "(1, 0, 0, 1)\n",
      "(1, 0, 1, 0)\n",
      "(1, 0, 1, 1)\n",
      "(1, 1, 0, 0)\n",
      "(1, 1, 0, 1)\n",
      "(1, 1, 1, 0)\n",
      "(1, 1, 1, 1)\n"
     ]
    }
   ],
   "source": [
    "# The bound for the bounded problem.\n",
    "K = 4\n",
    "\n",
    "# The generators.\n",
    "gens = []\n",
    "\n",
    "# Loop through all possible solutions.\n",
    "for i in range(1, K + 1):\n",
    "    # Create a generator for solutions of length i, append it to gens.\n",
    "    gens.append(it.product(*([range(len(L2))] * i)))\n",
    "\n",
    "# it.chain just chains generators together.\n",
    "for solution in it.chain(*gens):\n",
    "  print(solution)"
   ]
  },
  {
   "cell_type": "code",
   "execution_count": 49,
   "id": "3efb2442-a337-4797-a4d8-068b779036ee",
   "metadata": {},
   "outputs": [
    {
     "name": "stdout",
     "output_type": "stream",
     "text": [
      "('a', 'b') ('b', 'b', 'a')\n"
     ]
    }
   ],
   "source": [
    "print(*list(it.chain(L1)))"
   ]
  },
  {
   "cell_type": "code",
   "execution_count": 59,
   "id": "aa26e5cc-644f-4abc-942d-710c2b10caf3",
   "metadata": {},
   "outputs": [],
   "source": [
    "# Check if two objects are equal to each other.\n",
    "def correspond(w1, w2):\n",
    "    if w1 == w2:\n",
    "        return True\n",
    "    else:\n",
    "        return False\n",
    "\n",
    "# Bounded PCP problem with a constant number: K.\n",
    "def bpcp_solver(L1, L2, K):\n",
    "    gens = []\n",
    "    gens1 = []\n",
    "    for i in range(K+1):\n",
    "        gens.append(it.product(*([range(len(L1))] * i)))\n",
    "        gens1.append(it.product(*([range(len(L2))] * i)))\n",
    "\n",
    "    if correspond(gens, gens1):\n",
    "        return True\n",
    "    else:\n",
    "        return False"
   ]
  },
  {
   "cell_type": "code",
   "execution_count": 60,
   "id": "da6cf1be-237c-4fad-b47a-9c8094d5fbad",
   "metadata": {},
   "outputs": [
    {
     "data": {
      "text/plain": [
       "False"
      ]
     },
     "execution_count": 60,
     "metadata": {},
     "output_type": "execute_result"
    }
   ],
   "source": [
    "bpcp_solver(L1, L2, 1)"
   ]
  },
  {
   "cell_type": "code",
   "execution_count": 61,
   "id": "06002deb-f955-4e7a-a031-d7802ff36463",
   "metadata": {},
   "outputs": [
    {
     "data": {
      "text/plain": [
       "False"
      ]
     },
     "execution_count": 61,
     "metadata": {},
     "output_type": "execute_result"
    }
   ],
   "source": [
    "bpcp_solver(L1, L2, 2)"
   ]
  },
  {
   "cell_type": "markdown",
   "id": "53e32756-013d-4e64-adde-3cb850d415c5",
   "metadata": {},
   "source": [
    "***\n",
    "\n",
    "## End"
   ]
  },
  {
   "cell_type": "code",
   "execution_count": null,
   "id": "d3f36af7-d1a5-4d94-8f25-14cb8d492eb9",
   "metadata": {},
   "outputs": [],
   "source": []
  }
 ],
 "metadata": {
  "kernelspec": {
   "display_name": "Python 3 (ipykernel)",
   "language": "python",
   "name": "python3"
  },
  "language_info": {
   "codemirror_mode": {
    "name": "ipython",
    "version": 3
   },
   "file_extension": ".py",
   "mimetype": "text/x-python",
   "name": "python",
   "nbconvert_exporter": "python",
   "pygments_lexer": "ipython3",
   "version": "3.8.12"
  }
 },
 "nbformat": 4,
 "nbformat_minor": 5
}
