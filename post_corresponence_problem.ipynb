{
 "cells": [
  {
   "cell_type": "markdown",
   "id": "f2218bd2-3d16-435a-9657-4630d83f39ae",
   "metadata": {},
   "source": [
    "## Post Correspondence Problem\n",
    "https://en.wikipedia.org/wiki/Post_correspondence_problem\n",
    "***"
   ]
  },
  {
   "cell_type": "markdown",
   "id": "f3f68e94-a797-4165-99e4-e38b30e6ccc7",
   "metadata": {},
   "source": [
    "The Post Correspondence Problem is an undecidable decision problem introduced in 1946 by Emil Post. It is a useful undecidability problem because of its simplicity and other problems can be reduced to it. Post Correspondence Problem consists of tiles (or sometimes called Dominos). The tiles are sequences consisting of two parts the numerator and the denominator in the example below $L1$ and $L2$ are the tile sequences which are sets of strings:\n",
    "\n",
    "$\n",
    "\\begin{align}\n",
    "L1 = (L1_{1}, ... ,L1_{m})\n",
    "\\end{align}\n",
    "$ \n",
    "and \n",
    "$\n",
    "\\begin{align}\n",
    "L1 = (L2_{1}, ... ,L2_{m})\n",
    "\\end{align}\n",
    "$\n",
    "\n",
    "\n",
    "where:\n",
    "\n",
    "$ \n",
    "\\begin{align}\n",
    "L1_{1}, L2_{2} \\enspace \\epsilon \\enspace \\Sigma^*\n",
    "\\end{align}\n",
    "$\n",
    "\n",
    "The $L1$ and $L2$ sequences act as pairs where each instance of each sequence is a pair (this is why it get its Domino name) :\n",
    "\n",
    "\n",
    "$\n",
    "\\begin{align}\n",
    "\\binom{L1_{1}}{L2_{1}}\n",
    "\\end{align}\n",
    "$\n",
    ",\n",
    "$\n",
    "\\begin{align}\n",
    "\\binom{L1_{2}}{L2_{2}}\n",
    "\\end{align}\n",
    "$\n",
    ",  . . . . .  ,\n",
    "$\n",
    "\\begin{align}\n",
    " \\binom{L1_{m}}{L2_{m}}\n",
    "\\end{align}\n",
    "$\n"
   ]
  },
  {
   "cell_type": "markdown",
   "id": "97bf392a-c850-4f96-babe-212bf348809a",
   "metadata": {},
   "source": [
    "The task is to find a sequence of tiles where the top and bottom strings are the same and when reading the top and bottom part of the tiles the two strings should be equal. The tiles are allowed to be reused and rearranged. A finite sequence needs to be found to try and solve the PCP of matching the top and bottom set of strings. ($S$ in the example below is the finite sequence $(S_{1}, ...,S_{p})$ where: $S_{j} \\enspace \\epsilon \\enspace \\{ 1, ..., m \\} $ )\n",
    "\n",
    "\n",
    "$\n",
    "\\begin{align}\n",
    "L1_{S_{1}} L1_{S_{2}} ..... L1_{S_{p}} = L2_{S_{1}} L2_{S_{2}} ..... L2_{S_{p}}\n",
    "\\end{align}\n",
    "$"
   ]
  },
  {
   "cell_type": "markdown",
   "id": "35014778-8870-4032-bedb-dfa4f96ae6f5",
   "metadata": {},
   "source": [
    "Below is an example coded in Python of how the PCP works to better explain the Post Correspondence Problem. However, the example below is decidable, but the Post Correspondence problem in general cannot be solved as it is not possible to have a generalised algorithm into which you pass a PCP and it tells you if it is Solvable or not, as it can get stock in a loop and will never Halt. This is something like the Halting Problem as explained further below."
   ]
  },
  {
   "cell_type": "code",
   "execution_count": 1,
   "id": "71f5bf31-113a-471f-a63f-cf99e6586728",
   "metadata": {},
   "outputs": [],
   "source": [
    "# Numerator Set\n",
    "L1 = ['a', 'ab', 'bba'] "
   ]
  },
  {
   "cell_type": "code",
   "execution_count": 2,
   "id": "de5622fd-9325-4392-9310-b7b67630a096",
   "metadata": {},
   "outputs": [],
   "source": [
    "# Denominator Set\n",
    "L2 = ['baa', 'aa', 'bb']"
   ]
  },
  {
   "cell_type": "code",
   "execution_count": 3,
   "id": "566a0b4a-12ab-4366-9614-7a08eda0f156",
   "metadata": {},
   "outputs": [],
   "source": [
    "# Finite Sequence\n",
    "S = [2, 1, 2, 0]"
   ]
  },
  {
   "cell_type": "code",
   "execution_count": 4,
   "id": "d8efc748-90fb-4b46-a6b2-1cb9037aceab",
   "metadata": {},
   "outputs": [
    {
     "data": {
      "text/plain": [
       "'bbaabbbaa'"
      ]
     },
     "execution_count": 4,
     "metadata": {},
     "output_type": "execute_result"
    }
   ],
   "source": [
    "# Apply S to L1.\n",
    "'bba' + 'ab' + 'bba' + 'a'"
   ]
  },
  {
   "cell_type": "code",
   "execution_count": 5,
   "id": "17e00b24-7294-4c15-9e2b-16d8bd74e911",
   "metadata": {},
   "outputs": [
    {
     "data": {
      "text/plain": [
       "'bbaabbbaa'"
      ]
     },
     "execution_count": 5,
     "metadata": {},
     "output_type": "execute_result"
    }
   ],
   "source": [
    "# Apply S to L2.\n",
    "'bb' + 'aa' + 'bb' + 'baa'"
   ]
  },
  {
   "cell_type": "code",
   "execution_count": 6,
   "id": "cce55fe8-e601-474a-b0d8-5c8b37992e51",
   "metadata": {},
   "outputs": [],
   "source": [
    "# Method That applies Finite Sequence onto PCP Set.\n",
    "def apply(S, L):\n",
    "    S_on_L = [L[i] for i in S]\n",
    "    return ''.join(S_on_L)"
   ]
  },
  {
   "cell_type": "code",
   "execution_count": 7,
   "id": "8ef7ad7c-3fe4-4dc9-85e2-cff48e5e839a",
   "metadata": {},
   "outputs": [
    {
     "data": {
      "text/plain": [
       "['bba', 'ab', 'bba', 'a']"
      ]
     },
     "execution_count": 7,
     "metadata": {},
     "output_type": "execute_result"
    }
   ],
   "source": [
    "[L1[i] for i in S]"
   ]
  },
  {
   "cell_type": "code",
   "execution_count": 8,
   "id": "47420d89-9346-4e81-92fd-63ee2d24e490",
   "metadata": {},
   "outputs": [
    {
     "data": {
      "text/plain": [
       "'oneJOINtwoJOINthree'"
      ]
     },
     "execution_count": 8,
     "metadata": {},
     "output_type": "execute_result"
    }
   ],
   "source": [
    "'JOIN'.join(['one', 'two', 'three'])"
   ]
  },
  {
   "cell_type": "code",
   "execution_count": 9,
   "id": "d769bb62-18a9-404e-b3e6-8d7a34d82a3a",
   "metadata": {},
   "outputs": [
    {
     "data": {
      "text/plain": [
       "'bbaabbbaa'"
      ]
     },
     "execution_count": 9,
     "metadata": {},
     "output_type": "execute_result"
    }
   ],
   "source": [
    "apply(S, L1)"
   ]
  },
  {
   "cell_type": "code",
   "execution_count": 10,
   "id": "0e65d401-8995-43a8-96c3-bfcc2408a7af",
   "metadata": {},
   "outputs": [
    {
     "data": {
      "text/plain": [
       "'bbaabbbaa'"
      ]
     },
     "execution_count": 10,
     "metadata": {},
     "output_type": "execute_result"
    }
   ],
   "source": [
    "apply(S, L2)"
   ]
  },
  {
   "cell_type": "code",
   "execution_count": 11,
   "id": "9bbd2463-fc1f-46f3-a508-31d83b89340f",
   "metadata": {},
   "outputs": [
    {
     "data": {
      "text/plain": [
       "True"
      ]
     },
     "execution_count": 11,
     "metadata": {},
     "output_type": "execute_result"
    }
   ],
   "source": [
    "# Check if the Sets Correspond\n",
    "apply(S, L1) == apply(S, L2)"
   ]
  },
  {
   "cell_type": "code",
   "execution_count": 12,
   "id": "6589452d-820b-493e-a16b-a7f7fc427def",
   "metadata": {},
   "outputs": [
    {
     "data": {
      "text/plain": [
       "'bbaabbbaabbaabbbaa'"
      ]
     },
     "execution_count": 12,
     "metadata": {},
     "output_type": "execute_result"
    }
   ],
   "source": [
    "# Apply Finite Sequence\n",
    "apply([2, 1, 2, 0, 2, 1, 2, 0], L1)"
   ]
  },
  {
   "cell_type": "code",
   "execution_count": 13,
   "id": "8a28b433-7089-4a75-afe2-bc19a11710e4",
   "metadata": {},
   "outputs": [
    {
     "data": {
      "text/plain": [
       "'bbaabbbaabbaabbbaa'"
      ]
     },
     "execution_count": 13,
     "metadata": {},
     "output_type": "execute_result"
    }
   ],
   "source": [
    "# Apply Finite Sequence\n",
    "apply([2, 1, 2, 0, 2, 1, 2, 0], L2)"
   ]
  },
  {
   "cell_type": "code",
   "execution_count": 14,
   "id": "64edfa1b-f4e5-4ca3-9781-1aa03f760aaf",
   "metadata": {},
   "outputs": [
    {
     "data": {
      "text/plain": [
       "True"
      ]
     },
     "execution_count": 14,
     "metadata": {},
     "output_type": "execute_result"
    }
   ],
   "source": [
    "# Check if the Sets Correspond\n",
    "apply([2, 1, 2, 0, 2, 1, 2, 0], L1) == apply([2, 1, 2, 0, 2, 1, 2, 0], L2)"
   ]
  },
  {
   "cell_type": "markdown",
   "id": "948c4cb2-8848-464d-801d-20ff542a1750",
   "metadata": {},
   "source": [
    "## No Correspondence\n",
    "***"
   ]
  },
  {
   "cell_type": "markdown",
   "id": "6cccb856-5c20-45c3-a1d2-7064a5115aaa",
   "metadata": {},
   "source": [
    "In this example, the two sets have no correspondences as the tiles in the two sets have no viable finite sequence which would make the two sets correspond. These two sets could be looped and keep being tested but this would cause them to never halt as there would never be definite answer of whether the sets match or not causing it to be undecidable. Some sets are easier to spot if they have correspondence for example if in two sets the opposite tiles don’t begin with the same character, they will not be able to correspond:"
   ]
  },
  {
   "cell_type": "markdown",
   "id": "88657f61-4108-4ba5-8d7e-67b7ca22ae7f",
   "metadata": {},
   "source": [
    "$\n",
    "\\begin{align}\n",
    "L1 = (bca, ba, b)\n",
    "\\end{align}\n",
    "$ \n",
    "and \n",
    "$\n",
    "\\begin{align}\n",
    "L1 = (aca, ab, cc)\n",
    "\\end{align}\n",
    "$\n",
    "\n",
    "$\n",
    "\\begin{align}\n",
    "L1 \\neq L2\n",
    "\\end{align}\n",
    "$"
   ]
  },
  {
   "cell_type": "code",
   "execution_count": 15,
   "id": "a013fe51-4a24-44f3-858d-2f4507b28b76",
   "metadata": {},
   "outputs": [],
   "source": [
    "# Numerator Set\n",
    "L1 = ['ab', 'bba', 'ca']"
   ]
  },
  {
   "cell_type": "code",
   "execution_count": 16,
   "id": "92018843-6c46-42ed-92d1-39a0ea759ffb",
   "metadata": {},
   "outputs": [],
   "source": [
    "# Denominator Set\n",
    "L2 = ['aa', 'bb', 'ca']"
   ]
  },
  {
   "cell_type": "code",
   "execution_count": 17,
   "id": "cde5909f-5b17-4ad0-9742-df4e565ad0b9",
   "metadata": {},
   "outputs": [],
   "source": [
    "# Finite Sequence\n",
    "S = [2, 0, 1, 0]"
   ]
  },
  {
   "cell_type": "code",
   "execution_count": 18,
   "id": "bfe9a97f-9952-4112-9b68-f96cf33586c1",
   "metadata": {},
   "outputs": [
    {
     "data": {
      "text/plain": [
       "'caabbbaab'"
      ]
     },
     "execution_count": 18,
     "metadata": {},
     "output_type": "execute_result"
    }
   ],
   "source": [
    "# Apply Finite Sequence\n",
    "apply(S, L1)"
   ]
  },
  {
   "cell_type": "code",
   "execution_count": 19,
   "id": "97eacc04-bf64-4d14-9ea2-1e0e7c37e295",
   "metadata": {},
   "outputs": [
    {
     "data": {
      "text/plain": [
       "'caaabbaa'"
      ]
     },
     "execution_count": 19,
     "metadata": {},
     "output_type": "execute_result"
    }
   ],
   "source": [
    "# Apply Finite Sequence\n",
    "apply(S, L2)"
   ]
  },
  {
   "cell_type": "code",
   "execution_count": 20,
   "id": "3065a6cc-d8fa-495b-9ebb-38d0820d4d9a",
   "metadata": {},
   "outputs": [
    {
     "data": {
      "text/plain": [
       "False"
      ]
     },
     "execution_count": 20,
     "metadata": {},
     "output_type": "execute_result"
    }
   ],
   "source": [
    "# Check if the Sets Correspond\n",
    "apply(S, L1) == apply(S, L2)"
   ]
  },
  {
   "cell_type": "code",
   "execution_count": 21,
   "id": "1edd2f2a-20b6-4ce5-9135-7b6069438c9d",
   "metadata": {},
   "outputs": [],
   "source": [
    "# Finite Sequence does not exist?\n",
    "# S = ?"
   ]
  },
  {
   "cell_type": "markdown",
   "id": "f3c03b2a-1ecb-4995-90fd-8a8bb90a1bf4",
   "metadata": {},
   "source": [
    "$ (L_1,L_2) \\rightarrow \\{True, False\\} \\qquad |L_1| = |L_2| $"
   ]
  },
  {
   "cell_type": "markdown",
   "id": "9bb0438d-a051-4f11-a6ce-080c0a41a8f7",
   "metadata": {},
   "source": [
    "## Bounded PCP\n",
    "***\n",
    "The Bounded Post Correspondence Problem is a variation of the original Post Correspondence Problem, which means the correspondence can be found between two sets using no more than K tiles. This puts a max on the problem allowing it to halt if no correspondence is found or correspondence is found after the K number of tiles are used. The Bounded PCP is NP-Complete this is when: \"a problem for which the correctness of each solution can be verified quickly, and a brute-force search algorithm can find a solution by trying all possible solutions.\". However, though it is solvable its limited with the number of K tiles and K most be less or equal to the number of tiles in a set. The example below shows a solution to the Bounded PCP.\n",
    "<br>\n",
    "$ |S| \\leq K \\qquad K \\in \\mathbb{N} $"
   ]
  },
  {
   "cell_type": "code",
   "execution_count": 22,
   "id": "5e09701e-2c1b-4bb8-ab7b-13dc1128d937",
   "metadata": {},
   "outputs": [],
   "source": [
    "# Check if two objects are equal to each other.\n",
    "def correspond(w1, w2):\n",
    "    if w1 == w2:\n",
    "        print(w1 + \" == \" + w2)\n",
    "        return True\n",
    "    else:\n",
    "        print(w1 + \" != \" + w2)\n",
    "        return False\n",
    "\n",
    "# Bounded PCP problem with a constant number: K.\n",
    "def bpcp_solver(L1, L2, K):\n",
    "    temp = \"\"\n",
    "    temp1 = \"\"\n",
    "    for i in range(K+1):\n",
    "        temp = temp + L1[i]\n",
    "        temp1 = temp1 + L2[i]\n",
    "\n",
    "    if correspond(temp, temp1):\n",
    "        return True\n",
    "    else:\n",
    "        return False"
   ]
  },
  {
   "cell_type": "code",
   "execution_count": 23,
   "id": "eb79039a-e4c7-4f92-b028-8f077d06844b",
   "metadata": {},
   "outputs": [
    {
     "name": "stdout",
     "output_type": "stream",
     "text": [
      "abbba != aabb\n"
     ]
    },
    {
     "data": {
      "text/plain": [
       "False"
      ]
     },
     "execution_count": 23,
     "metadata": {},
     "output_type": "execute_result"
    }
   ],
   "source": [
    "# Check Correspondence\n",
    "bpcp_solver(L1, L2, 1)"
   ]
  },
  {
   "cell_type": "code",
   "execution_count": 24,
   "id": "1429dc5f-e8a7-4b90-bedd-f6e8aa7dfb9a",
   "metadata": {},
   "outputs": [
    {
     "name": "stdout",
     "output_type": "stream",
     "text": [
      "abbbaca != aabbca\n"
     ]
    },
    {
     "data": {
      "text/plain": [
       "False"
      ]
     },
     "execution_count": 24,
     "metadata": {},
     "output_type": "execute_result"
    }
   ],
   "source": [
    "# Check Correspondence\n",
    "bpcp_solver(L1, L2, 2)"
   ]
  },
  {
   "cell_type": "code",
   "execution_count": 25,
   "id": "98502f7c-9fc8-4e69-a1f3-2fc411673e1b",
   "metadata": {},
   "outputs": [
    {
     "name": "stdout",
     "output_type": "stream",
     "text": [
      "aabbb == aabbb\n"
     ]
    },
    {
     "data": {
      "text/plain": [
       "True"
      ]
     },
     "execution_count": 25,
     "metadata": {},
     "output_type": "execute_result"
    }
   ],
   "source": [
    "# Check Correspondence for True\n",
    "L1 = ['a', 'ab', 'bb']\n",
    "\n",
    "L2 = ['a', 'ab', 'bb']\n",
    "\n",
    "bpcp_solver(L1, L2, 2)"
   ]
  },
  {
   "cell_type": "markdown",
   "id": "d9e55fc4-4091-423f-92f3-5bcb6b0000c7",
   "metadata": {},
   "source": [
    "## Bounded PCP using Tuples & Itertools\n",
    "* https://realpython.com/python-itertools/\n",
    "* https://docs.python.org/3/tutorial/datastructures.html#tuples-and-sequences\n",
    "***"
   ]
  },
  {
   "cell_type": "markdown",
   "id": "b48f18be-d85a-4b65-ad48-98586bfb2411",
   "metadata": {},
   "source": [
    "The example below demonstrates the Bounded Post Correspondence Problem using functional programming style. In the example we will be using tuples which are immutable lists. A more advanced algorithm is also used in the example which will loop through the list checking if the tiles can be moved to correspond the sets together and it will check if there is a correct sequence which will solve the problem, we can do this because we are using immutable list meaning they won’t be able to tamper with. A similar concept is still being follow as to the example above where the K number of tiles is used and two sets L1 and L2 are being used the only difference they’re immutable."
   ]
  },
  {
   "cell_type": "code",
   "execution_count": 26,
   "id": "06454e3f-f144-4b05-8316-5d6564adcaed",
   "metadata": {},
   "outputs": [],
   "source": [
    "# List\n",
    "l = [1,2,3]"
   ]
  },
  {
   "cell_type": "code",
   "execution_count": 27,
   "id": "e8f65696-f610-42dd-a350-987632963629",
   "metadata": {},
   "outputs": [],
   "source": [
    "# Tuple (Immutable list)\n",
    "t = (1, 2, 3)"
   ]
  },
  {
   "cell_type": "code",
   "execution_count": 28,
   "id": "35febe7e-431e-41e3-9f2c-2621e5c4a192",
   "metadata": {},
   "outputs": [
    {
     "data": {
      "text/plain": [
       "529344067295497451"
      ]
     },
     "execution_count": 28,
     "metadata": {},
     "output_type": "execute_result"
    }
   ],
   "source": [
    "# Can't hash a list.\n",
    "# hash(l)\n",
    "# Gives an error.\n",
    "\n",
    "# Can hash a tuple.\n",
    "hash(t)"
   ]
  },
  {
   "cell_type": "code",
   "execution_count": 29,
   "id": "bf677f9f-9fdd-46d0-9ad5-a211378864a7",
   "metadata": {},
   "outputs": [
    {
     "data": {
      "text/plain": [
       "'0x7589b9fe71bcceb'"
      ]
     },
     "execution_count": 29,
     "metadata": {},
     "output_type": "execute_result"
    }
   ],
   "source": [
    "# Usual output from a hash function is in hex, (Sha256) crptography. \n",
    "hex(hash(t))"
   ]
  },
  {
   "cell_type": "code",
   "execution_count": 30,
   "id": "3efc5af4-7af1-4fe3-9d03-a14f6cf78beb",
   "metadata": {},
   "outputs": [
    {
     "data": {
      "text/plain": [
       "{1, 2, 3}"
      ]
     },
     "execution_count": 30,
     "metadata": {},
     "output_type": "execute_result"
    }
   ],
   "source": [
    "# Some contexts require the round brackets.\n",
    "# Set of tuples\n",
    "set((1, 2, 3))"
   ]
  },
  {
   "cell_type": "code",
   "execution_count": 31,
   "id": "75ef5be5-0375-49af-9d4a-52fd71d88309",
   "metadata": {},
   "outputs": [],
   "source": [
    "# A very useful module in the Python standard library.\n",
    "import itertools as it"
   ]
  },
  {
   "cell_type": "code",
   "execution_count": 32,
   "id": "a7dd8ff3-406e-4517-a05d-297865e1d779",
   "metadata": {},
   "outputs": [
    {
     "data": {
      "text/plain": [
       "[('A', 'B', 'C'),\n",
       " ('A', 'C', 'B'),\n",
       " ('B', 'A', 'C'),\n",
       " ('B', 'C', 'A'),\n",
       " ('C', 'A', 'B'),\n",
       " ('C', 'B', 'A')]"
      ]
     },
     "execution_count": 32,
     "metadata": {},
     "output_type": "execute_result"
    }
   ],
   "source": [
    "# Permutations.\n",
    "list(it.permutations('ABC'))"
   ]
  },
  {
   "cell_type": "code",
   "execution_count": 33,
   "id": "8c97e8b7-7893-4eed-8dc2-86f661d6a8fd",
   "metadata": {},
   "outputs": [
    {
     "data": {
      "text/plain": [
       "[(0, 0, 0),\n",
       " (0, 0, 1),\n",
       " (0, 0, 2),\n",
       " (0, 1, 0),\n",
       " (0, 1, 1),\n",
       " (0, 1, 2),\n",
       " (0, 2, 0),\n",
       " (0, 2, 1),\n",
       " (0, 2, 2),\n",
       " (1, 0, 0),\n",
       " (1, 0, 1),\n",
       " (1, 0, 2),\n",
       " (1, 1, 0),\n",
       " (1, 1, 1),\n",
       " (1, 1, 2),\n",
       " (1, 2, 0),\n",
       " (1, 2, 1),\n",
       " (1, 2, 2),\n",
       " (2, 0, 0),\n",
       " (2, 0, 1),\n",
       " (2, 0, 2),\n",
       " (2, 1, 0),\n",
       " (2, 1, 1),\n",
       " (2, 1, 2),\n",
       " (2, 2, 0),\n",
       " (2, 2, 1),\n",
       " (2, 2, 2)]"
      ]
     },
     "execution_count": 33,
     "metadata": {},
     "output_type": "execute_result"
    }
   ],
   "source": [
    "list(it.product(range(len(L1)), range(len(L1)), range(len(L1))))"
   ]
  },
  {
   "cell_type": "code",
   "execution_count": 34,
   "id": "c7ab914a-7eb9-4dca-88e3-5c4d642266c7",
   "metadata": {},
   "outputs": [],
   "source": [
    "a = 'a'\n",
    "b = 'b'"
   ]
  },
  {
   "cell_type": "code",
   "execution_count": 35,
   "id": "a8581881-be6f-4bfd-95f4-0c9f1c8c3e0c",
   "metadata": {},
   "outputs": [],
   "source": [
    "# List 1.\n",
    "L1 = ((a, b), (b, b, a))\n",
    "# List 2.\n",
    "L2 = ((a, a), (b, b))"
   ]
  },
  {
   "cell_type": "code",
   "execution_count": 36,
   "id": "50d994b7-7723-451f-bba1-ad26c1c96373",
   "metadata": {},
   "outputs": [
    {
     "data": {
      "text/plain": [
       "[(('a', 'b'), ('b', 'b', 'a')), (('b', 'b', 'a'), ('a', 'b'))]"
      ]
     },
     "execution_count": 36,
     "metadata": {},
     "output_type": "execute_result"
    }
   ],
   "source": [
    "# Permutations.\n",
    "L3 = list(it.permutations(L1))\n",
    "L3"
   ]
  },
  {
   "cell_type": "code",
   "execution_count": 37,
   "id": "d449c658-6f69-4cb4-b750-6513bd351561",
   "metadata": {},
   "outputs": [
    {
     "data": {
      "text/plain": [
       "[((('a', 'b'), ('b', 'b', 'a')),), ((('b', 'b', 'a'), ('a', 'b')),)]"
      ]
     },
     "execution_count": 37,
     "metadata": {},
     "output_type": "execute_result"
    }
   ],
   "source": [
    "list(it.product(L3))"
   ]
  },
  {
   "cell_type": "code",
   "execution_count": 38,
   "id": "31d2672d-e68b-4df9-8e4a-944caa49e581",
   "metadata": {},
   "outputs": [
    {
     "name": "stdout",
     "output_type": "stream",
     "text": [
      "(0,)\n",
      "(1,)\n",
      "(0, 0)\n",
      "(0, 1)\n",
      "(1, 0)\n",
      "(1, 1)\n",
      "(0, 0, 0)\n",
      "(0, 0, 1)\n",
      "(0, 1, 0)\n",
      "(0, 1, 1)\n",
      "(1, 0, 0)\n",
      "(1, 0, 1)\n",
      "(1, 1, 0)\n",
      "(1, 1, 1)\n",
      "(0, 0, 0, 0)\n",
      "(0, 0, 0, 1)\n",
      "(0, 0, 1, 0)\n",
      "(0, 0, 1, 1)\n",
      "(0, 1, 0, 0)\n",
      "(0, 1, 0, 1)\n",
      "(0, 1, 1, 0)\n",
      "(0, 1, 1, 1)\n",
      "(1, 0, 0, 0)\n",
      "(1, 0, 0, 1)\n",
      "(1, 0, 1, 0)\n",
      "(1, 0, 1, 1)\n",
      "(1, 1, 0, 0)\n",
      "(1, 1, 0, 1)\n",
      "(1, 1, 1, 0)\n",
      "(1, 1, 1, 1)\n"
     ]
    }
   ],
   "source": [
    "# The bound for the bounded problem.\n",
    "K = 4\n",
    "\n",
    "# The generators.\n",
    "gens = []\n",
    "\n",
    "# Loop through all possible solutions.\n",
    "for i in range(1, K + 1):\n",
    "    # Create a generator for solutions of length i, append it to gens.\n",
    "    gens.append(it.product(*([range(len(L2))] * i)))\n",
    "\n",
    "# it.chain just chains generators together.\n",
    "for solution in it.chain(*gens):\n",
    "  print(solution)"
   ]
  },
  {
   "cell_type": "code",
   "execution_count": 39,
   "id": "3efb2442-a337-4797-a4d8-068b779036ee",
   "metadata": {},
   "outputs": [
    {
     "name": "stdout",
     "output_type": "stream",
     "text": [
      "('a', 'b') ('b', 'b', 'a')\n"
     ]
    }
   ],
   "source": [
    "print(*list(it.chain(L1)))"
   ]
  },
  {
   "cell_type": "code",
   "execution_count": 40,
   "id": "aa26e5cc-644f-4abc-942d-710c2b10caf3",
   "metadata": {},
   "outputs": [],
   "source": [
    "# Check if two objects are equal to each other.\n",
    "def correspond(w1, w2):\n",
    "    if w1 == w2:\n",
    "        return True\n",
    "    else:\n",
    "        return False\n",
    "\n",
    "# Bounded PCP problem with a constant number: K.\n",
    "def bpcp_solver(L1, L2, K):\n",
    "    gens = []\n",
    "    gens1 = []\n",
    "    for i in range(K+1):\n",
    "        gens.append(it.product(*([range(len(L1))] * i)))\n",
    "        gens1.append(it.product(*([range(len(L2))] * i)))\n",
    "\n",
    "    if correspond(gens, gens1):\n",
    "        return True\n",
    "    else:\n",
    "        return False"
   ]
  },
  {
   "cell_type": "code",
   "execution_count": 44,
   "id": "da6cf1be-237c-4fad-b47a-9c8094d5fbad",
   "metadata": {},
   "outputs": [
    {
     "data": {
      "text/plain": [
       "False"
      ]
     },
     "execution_count": 44,
     "metadata": {},
     "output_type": "execute_result"
    }
   ],
   "source": [
    "# Check Correspondence\n",
    "bpcp_solver(L1, L2, 1)"
   ]
  },
  {
   "cell_type": "code",
   "execution_count": 43,
   "id": "06002deb-f955-4e7a-a031-d7802ff36463",
   "metadata": {},
   "outputs": [
    {
     "data": {
      "text/plain": [
       "False"
      ]
     },
     "execution_count": 43,
     "metadata": {},
     "output_type": "execute_result"
    }
   ],
   "source": [
    "# Check Correspondence\n",
    "bpcp_solver(L1, L2, 2)"
   ]
  },
  {
   "cell_type": "markdown",
   "id": "dbba8b09-559a-41b9-a34c-2be7be0ffa98",
   "metadata": {
    "tags": []
   },
   "source": [
    "## Post Correspondence Problem viewed as a Decision Problem.\n",
    "\n",
    "***"
   ]
  },
  {
   "cell_type": "markdown",
   "id": "82315977-aa96-4e86-9970-6413fbf03381",
   "metadata": {},
   "source": [
    "A decision problem is a \"yes\" or \"no\" question on an unspecified set of inputs. A basic example of this would be deciding whether a natural number is prime, giving that there is an infinite number of numbers. A decision problem which can be solved by an algorithm is called decidable. So given this information is the Post Correspondence Problem viewed as a Decision Problem. Given that the Post Correspondence Problem is a fixed set of character and viewed as a Bounded PCP then NO the Post Correspondence Problem would not be viewed as a Decision problem. However, if the PCP is a non-fixed list, then it can be viewed as a Decision problem as it is not immutable and is valid to change. As seen in the examples a \"Tuple\" is immutable and can’t be changed, and an algorithm could be created to figure out the Bounded PCP meaning it is decidable."
   ]
  },
  {
   "cell_type": "code",
   "execution_count": null,
   "id": "bb82073b-2169-4ddd-9c02-3bf4eb3d5fb3",
   "metadata": {},
   "outputs": [],
   "source": []
  },
  {
   "cell_type": "code",
   "execution_count": null,
   "id": "4f269e47-57c5-40d4-9545-8df604041113",
   "metadata": {},
   "outputs": [],
   "source": []
  },
  {
   "cell_type": "code",
   "execution_count": null,
   "id": "27025f53-96ee-4274-9bb1-61e3219606d6",
   "metadata": {},
   "outputs": [],
   "source": []
  },
  {
   "cell_type": "markdown",
   "id": "d95f408f-1cfc-4f20-ba6c-8e374e38f96e",
   "metadata": {},
   "source": [
    "***\n",
    "\n",
    "## References\n",
    "\n",
    "* https://homepages.cwi.nl/~rdewolf/publ/other/pcp_tcs.pdf\n",
    "* https://cs.stackexchange.com/questions/66023/what-is-k-in-the-bounded-post-correspondence-problem\n",
    "* https://www.cis.upenn.edu/~jean/gbooks/PCPh04.pdf\n",
    "* NP-completeness Definition. https://en.wikipedia.org/wiki/NP-completeness "
   ]
  },
  {
   "cell_type": "markdown",
   "id": "53e32756-013d-4e64-adde-3cb850d415c5",
   "metadata": {
    "tags": []
   },
   "source": [
    "***\n",
    "\n",
    "## End"
   ]
  },
  {
   "cell_type": "code",
   "execution_count": null,
   "id": "d3f36af7-d1a5-4d94-8f25-14cb8d492eb9",
   "metadata": {},
   "outputs": [],
   "source": []
  }
 ],
 "metadata": {
  "kernelspec": {
   "display_name": "Python 3 (ipykernel)",
   "language": "python",
   "name": "python3"
  },
  "language_info": {
   "codemirror_mode": {
    "name": "ipython",
    "version": 3
   },
   "file_extension": ".py",
   "mimetype": "text/x-python",
   "name": "python",
   "nbconvert_exporter": "python",
   "pygments_lexer": "ipython3",
   "version": "3.8.12"
  }
 },
 "nbformat": 4,
 "nbformat_minor": 5
}
