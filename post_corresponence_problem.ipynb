{
 "cells": [
  {
   "cell_type": "markdown",
   "id": "f2218bd2-3d16-435a-9657-4630d83f39ae",
   "metadata": {},
   "source": [
    "## Post Corresponence Problem\n",
    "https://en.wikipedia.org/wiki/Post_correspondence_problem\n",
    "***"
   ]
  },
  {
   "cell_type": "code",
   "execution_count": 1,
   "id": "54992317-7005-4ae8-8032-87568565e5f1",
   "metadata": {},
   "outputs": [],
   "source": [
    "A = {'a', 'b'}"
   ]
  },
  {
   "cell_type": "code",
   "execution_count": 2,
   "id": "71f5bf31-113a-471f-a63f-cf99e6586728",
   "metadata": {},
   "outputs": [],
   "source": [
    "L1 = ['a', 'ab', 'bba']"
   ]
  },
  {
   "cell_type": "code",
   "execution_count": 3,
   "id": "de5622fd-9325-4392-9310-b7b67630a096",
   "metadata": {},
   "outputs": [],
   "source": [
    "L2 = ['baa', 'aa', 'bb']"
   ]
  },
  {
   "cell_type": "code",
   "execution_count": 4,
   "id": "566a0b4a-12ab-4366-9614-7a08eda0f156",
   "metadata": {},
   "outputs": [],
   "source": [
    "S = [2, 1, 2, 0]"
   ]
  },
  {
   "cell_type": "code",
   "execution_count": 5,
   "id": "d8efc748-90fb-4b46-a6b2-1cb9037aceab",
   "metadata": {},
   "outputs": [
    {
     "data": {
      "text/plain": [
       "'bbaabbbaa'"
      ]
     },
     "execution_count": 5,
     "metadata": {},
     "output_type": "execute_result"
    }
   ],
   "source": [
    "# Apply S to L1.\n",
    "'bba' + 'ab' + 'bba' + 'a'"
   ]
  },
  {
   "cell_type": "code",
   "execution_count": 6,
   "id": "17e00b24-7294-4c15-9e2b-16d8bd74e911",
   "metadata": {},
   "outputs": [
    {
     "data": {
      "text/plain": [
       "'bbaabbbaa'"
      ]
     },
     "execution_count": 6,
     "metadata": {},
     "output_type": "execute_result"
    }
   ],
   "source": [
    "# Apply S to L2.\n",
    "'bb' + 'aa' + 'bb' + 'baa'"
   ]
  },
  {
   "cell_type": "code",
   "execution_count": 7,
   "id": "cce55fe8-e601-474a-b0d8-5c8b37992e51",
   "metadata": {},
   "outputs": [],
   "source": [
    "def apply(S, L):\n",
    "    S_on_L = [L[i] for i in S]\n",
    "    return ''.join(S_on_L)"
   ]
  },
  {
   "cell_type": "code",
   "execution_count": 8,
   "id": "bead9528-e3b1-499e-b3ac-5e3a2f600f5b",
   "metadata": {},
   "outputs": [
    {
     "data": {
      "text/plain": [
       "'bbaabbbaa'"
      ]
     },
     "execution_count": 8,
     "metadata": {},
     "output_type": "execute_result"
    }
   ],
   "source": [
    "apply(S, L1)"
   ]
  },
  {
   "cell_type": "code",
   "execution_count": 9,
   "id": "4d1e4560-a5fb-4c6b-a9fc-e35302d2f5ef",
   "metadata": {},
   "outputs": [
    {
     "data": {
      "text/plain": [
       "[2, 1, 2, 0]"
      ]
     },
     "execution_count": 9,
     "metadata": {},
     "output_type": "execute_result"
    }
   ],
   "source": [
    "S"
   ]
  },
  {
   "cell_type": "code",
   "execution_count": 10,
   "id": "3aa59714-a00d-4c67-a782-66096925f53b",
   "metadata": {},
   "outputs": [
    {
     "data": {
      "text/plain": [
       "['a', 'ab', 'bba']"
      ]
     },
     "execution_count": 10,
     "metadata": {},
     "output_type": "execute_result"
    }
   ],
   "source": [
    "L1"
   ]
  },
  {
   "cell_type": "code",
   "execution_count": 11,
   "id": "8ef7ad7c-3fe4-4dc9-85e2-cff48e5e839a",
   "metadata": {},
   "outputs": [
    {
     "data": {
      "text/plain": [
       "['bba', 'ab', 'bba', 'a']"
      ]
     },
     "execution_count": 11,
     "metadata": {},
     "output_type": "execute_result"
    }
   ],
   "source": [
    "[L1[i] for i in S]"
   ]
  },
  {
   "cell_type": "code",
   "execution_count": 12,
   "id": "47420d89-9346-4e81-92fd-63ee2d24e490",
   "metadata": {},
   "outputs": [
    {
     "data": {
      "text/plain": [
       "'oneJOINtwoJOINthree'"
      ]
     },
     "execution_count": 12,
     "metadata": {},
     "output_type": "execute_result"
    }
   ],
   "source": [
    "'JOIN'.join(['one', 'two', 'three'])"
   ]
  },
  {
   "cell_type": "code",
   "execution_count": 13,
   "id": "d769bb62-18a9-404e-b3e6-8d7a34d82a3a",
   "metadata": {},
   "outputs": [
    {
     "data": {
      "text/plain": [
       "'bbaabbbaa'"
      ]
     },
     "execution_count": 13,
     "metadata": {},
     "output_type": "execute_result"
    }
   ],
   "source": [
    "apply(S, L1)"
   ]
  },
  {
   "cell_type": "code",
   "execution_count": 14,
   "id": "0e65d401-8995-43a8-96c3-bfcc2408a7af",
   "metadata": {},
   "outputs": [
    {
     "data": {
      "text/plain": [
       "'bbaabbbaa'"
      ]
     },
     "execution_count": 14,
     "metadata": {},
     "output_type": "execute_result"
    }
   ],
   "source": [
    "apply(S, L2)"
   ]
  },
  {
   "cell_type": "code",
   "execution_count": 15,
   "id": "9bbd2463-fc1f-46f3-a508-31d83b89340f",
   "metadata": {},
   "outputs": [
    {
     "data": {
      "text/plain": [
       "True"
      ]
     },
     "execution_count": 15,
     "metadata": {},
     "output_type": "execute_result"
    }
   ],
   "source": [
    "apply(S, L1) == apply(S, L2)"
   ]
  },
  {
   "cell_type": "code",
   "execution_count": 16,
   "id": "6589452d-820b-493e-a16b-a7f7fc427def",
   "metadata": {},
   "outputs": [
    {
     "data": {
      "text/plain": [
       "'bbaabbbaabbaabbbaa'"
      ]
     },
     "execution_count": 16,
     "metadata": {},
     "output_type": "execute_result"
    }
   ],
   "source": [
    "apply([2, 1, 2, 0, 2, 1, 2, 0], L1)"
   ]
  },
  {
   "cell_type": "code",
   "execution_count": 17,
   "id": "8a28b433-7089-4a75-afe2-bc19a11710e4",
   "metadata": {},
   "outputs": [
    {
     "data": {
      "text/plain": [
       "'bbaabbbaabbaabbbaa'"
      ]
     },
     "execution_count": 17,
     "metadata": {},
     "output_type": "execute_result"
    }
   ],
   "source": [
    "apply([2, 1, 2, 0, 2, 1, 2, 0], L2)"
   ]
  },
  {
   "cell_type": "markdown",
   "id": "948c4cb2-8848-464d-801d-20ff542a1750",
   "metadata": {},
   "source": [
    "## No Correspondence\n",
    "***"
   ]
  },
  {
   "cell_type": "code",
   "execution_count": 18,
   "id": "a013fe51-4a24-44f3-858d-2f4507b28b76",
   "metadata": {},
   "outputs": [],
   "source": [
    "L1 = ['ab', 'bba', 'ca']"
   ]
  },
  {
   "cell_type": "code",
   "execution_count": 19,
   "id": "92018843-6c46-42ed-92d1-39a0ea759ffb",
   "metadata": {},
   "outputs": [],
   "source": [
    "L2 = ['aa', 'bb', 'ca']"
   ]
  },
  {
   "cell_type": "code",
   "execution_count": 20,
   "id": "1e21ac3f-ce0e-4203-a652-05ecfec1685d",
   "metadata": {},
   "outputs": [],
   "source": [
    "L3 = ['', '', '']"
   ]
  },
  {
   "cell_type": "code",
   "execution_count": 21,
   "id": "1edd2f2a-20b6-4ce5-9135-7b6069438c9d",
   "metadata": {},
   "outputs": [],
   "source": [
    "# S = ?"
   ]
  },
  {
   "cell_type": "markdown",
   "id": "f3c03b2a-1ecb-4995-90fd-8a8bb90a1bf4",
   "metadata": {},
   "source": [
    "$ (L_1,L_2) \\rightarrow \\{True, False\\} \\qquad |L_1| = |L_2| $"
   ]
  },
  {
   "cell_type": "markdown",
   "id": "9bb0438d-a051-4f11-a6ce-080c0a41a8f7",
   "metadata": {},
   "source": [
    "## Bounded PCP\n",
    "***\n",
    "\n",
    "$ |S| \\leq K \\qquad K \\in \\mathbb{N} $"
   ]
  },
  {
   "cell_type": "code",
   "execution_count": 22,
   "id": "5e09701e-2c1b-4bb8-ab7b-13dc1128d937",
   "metadata": {},
   "outputs": [],
   "source": [
    "# Check if two objects are equal to each other.\n",
    "def correspond(w1, w2):\n",
    "    if w1 == w2:\n",
    "        print(w1 + \" == \" + w2)\n",
    "        return True\n",
    "    else:\n",
    "        print(w1 + \" != \" + w2)\n",
    "        return False\n",
    "\n",
    "# Bounded PCP problem with a constant number: K.\n",
    "def bpcp_solver(L1, L2, K):\n",
    "    temp = \"\"\n",
    "    temp1 = \"\"\n",
    "    for i in range(K+1):\n",
    "        temp = temp + L1[i]\n",
    "        temp1 = temp1 + L2[i]\n",
    "\n",
    "    if correspond(temp, temp1):\n",
    "        return True\n",
    "    else:\n",
    "        return False"
   ]
  },
  {
   "cell_type": "code",
   "execution_count": 23,
   "id": "eb79039a-e4c7-4f92-b028-8f077d06844b",
   "metadata": {},
   "outputs": [
    {
     "name": "stdout",
     "output_type": "stream",
     "text": [
      "abbba != aabb\n"
     ]
    },
    {
     "data": {
      "text/plain": [
       "False"
      ]
     },
     "execution_count": 23,
     "metadata": {},
     "output_type": "execute_result"
    }
   ],
   "source": [
    "bpcp_solver(L1, L2, 1)"
   ]
  },
  {
   "cell_type": "code",
   "execution_count": 24,
   "id": "1429dc5f-e8a7-4b90-bedd-f6e8aa7dfb9a",
   "metadata": {},
   "outputs": [
    {
     "name": "stdout",
     "output_type": "stream",
     "text": [
      "abbbaca != aabbca\n"
     ]
    },
    {
     "data": {
      "text/plain": [
       "False"
      ]
     },
     "execution_count": 24,
     "metadata": {},
     "output_type": "execute_result"
    }
   ],
   "source": [
    "bpcp_solver(L1, L2, 2)"
   ]
  },
  {
   "cell_type": "markdown",
   "id": "53e32756-013d-4e64-adde-3cb850d415c5",
   "metadata": {},
   "source": [
    "***\n",
    "\n",
    "## End"
   ]
  },
  {
   "cell_type": "code",
   "execution_count": null,
   "id": "d3f36af7-d1a5-4d94-8f25-14cb8d492eb9",
   "metadata": {},
   "outputs": [],
   "source": []
  }
 ],
 "metadata": {
  "kernelspec": {
   "display_name": "Python 3 (ipykernel)",
   "language": "python",
   "name": "python3"
  },
  "language_info": {
   "codemirror_mode": {
    "name": "ipython",
    "version": 3
   },
   "file_extension": ".py",
   "mimetype": "text/x-python",
   "name": "python",
   "nbconvert_exporter": "python",
   "pygments_lexer": "ipython3",
   "version": "3.8.12"
  }
 },
 "nbformat": 4,
 "nbformat_minor": 5
}
