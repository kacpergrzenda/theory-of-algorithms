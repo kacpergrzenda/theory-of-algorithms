{
 "cells": [
  {
   "cell_type": "markdown",
   "id": "cc2126d1-d311-41f9-ab90-5553d083bba6",
   "metadata": {},
   "source": [
    "# Countdown Numbers Game\n",
    "\n",
    "***"
   ]
  },
  {
   "cell_type": "code",
   "execution_count": null,
   "id": "e676efb6-6787-4a73-8266-58bd10d412cd",
   "metadata": {},
   "outputs": [],
   "source": []
  },
  {
   "cell_type": "markdown",
   "id": "81ebde99-526a-487b-a6e8-27a514c5d88b",
   "metadata": {},
   "source": [
    "## Overview of Countdown Numbers Game\n",
    "\n",
    "***"
   ]
  },
  {
   "cell_type": "code",
   "execution_count": 6,
   "id": "eed5d002-4f81-452f-af78-625b7d524e83",
   "metadata": {},
   "outputs": [],
   "source": [
    "#Imports\n",
    "\n",
    "# Permutations and combinations.\n",
    "import itertools as it\n",
    "\n",
    "# Random number generation.\n",
    "import random\n",
    "\n",
    "# Operators as functions.\n",
    "import operator"
   ]
  },
  {
   "cell_type": "code",
   "execution_count": 7,
   "id": "1d0e0eb5-71c7-4c29-891a-a620d40df5b4",
   "metadata": {},
   "outputs": [],
   "source": [
    "# Generate Random Game Numbers\n",
    "def new_numbers_game(no_large=None):\n",
    "  # Returns six numbers and a target number representing a Countdown numbers game.\n",
    "  \n",
    "  # If no_large in None, randomly pick value between 0 and 4 inclusive.\n",
    "  if no_large is None:\n",
    "    # Randomly set the value.\n",
    "    no_large = random.randrange(0, 5)\n",
    "  \n",
    "  # Select random large numbers.\n",
    "  large_rand = random.sample([25, 50, 75, 100], no_large)\n",
    "  # Select random small numbers.\n",
    "  small_rand = random.sample(list(range(1, 11)) * 2, 6 - no_large)\n",
    "  # The playing numbers.\n",
    "  play_nos = large_rand + small_rand\n",
    "\n",
    "  # Select a target number.\n",
    "  target = random.randrange(101, 1000)\n",
    "\n",
    "  # Return the game.\n",
    "  return play_nos, target"
   ]
  },
  {
   "cell_type": "code",
   "execution_count": 8,
   "id": "3db89268-51e8-4820-90a2-47d05dddb95a",
   "metadata": {},
   "outputs": [
    {
     "data": {
      "text/plain": [
       "([100, 50, 25, 75, 8, 7], 391)"
      ]
     },
     "execution_count": 8,
     "metadata": {},
     "output_type": "execute_result"
    }
   ],
   "source": [
    "# Random nubmers game.\n",
    "new_numbers_game()"
   ]
  },
  {
   "cell_type": "markdown",
   "id": "5fdf1695-5929-49f4-adc5-10501f5256a0",
   "metadata": {},
   "source": [
    "## Complexity of Countdown Numbers Game\n",
    "\n",
    "***"
   ]
  },
  {
   "cell_type": "code",
   "execution_count": null,
   "id": "cdada12f-774a-45f9-b5dc-461d2648a6ba",
   "metadata": {},
   "outputs": [],
   "source": []
  },
  {
   "cell_type": "code",
   "execution_count": null,
   "id": "85148a4c-a78a-48e3-9456-5631c7037efd",
   "metadata": {
    "tags": []
   },
   "outputs": [],
   "source": []
  },
  {
   "cell_type": "markdown",
   "id": "ff91bb94-8cf0-4756-b010-7d3fcbbbc8f9",
   "metadata": {},
   "source": [
    "## Functional Aspect of Code behind Countdown Numbers Game\n",
    "\n",
    "***"
   ]
  },
  {
   "cell_type": "code",
   "execution_count": null,
   "id": "f0d7b07f-1e6e-4c51-887a-5703b410e41c",
   "metadata": {},
   "outputs": [],
   "source": []
  },
  {
   "cell_type": "code",
   "execution_count": null,
   "id": "aab2108e-9ade-4ca9-8099-a76af0d12b37",
   "metadata": {},
   "outputs": [],
   "source": []
  },
  {
   "cell_type": "markdown",
   "id": "edead10a-b55a-4427-8889-cadaf34b74a7",
   "metadata": {},
   "source": [
    "## References\n",
    "\n",
    "***"
   ]
  },
  {
   "cell_type": "code",
   "execution_count": null,
   "id": "62fa4f41-5566-43a2-8c7c-aa4d946a3d2d",
   "metadata": {},
   "outputs": [],
   "source": []
  },
  {
   "cell_type": "code",
   "execution_count": null,
   "id": "e1bd75cb-8615-47b9-aee6-60e0bf2fba0e",
   "metadata": {},
   "outputs": [],
   "source": []
  }
 ],
 "metadata": {
  "kernelspec": {
   "display_name": "Python 3 (ipykernel)",
   "language": "python",
   "name": "python3"
  },
  "language_info": {
   "codemirror_mode": {
    "name": "ipython",
    "version": 3
   },
   "file_extension": ".py",
   "mimetype": "text/x-python",
   "name": "python",
   "nbconvert_exporter": "python",
   "pygments_lexer": "ipython3",
   "version": "3.8.12"
  }
 },
 "nbformat": 4,
 "nbformat_minor": 5
}
