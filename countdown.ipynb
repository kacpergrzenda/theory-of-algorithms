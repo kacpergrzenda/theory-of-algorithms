{
 "cells": [
  {
   "cell_type": "markdown",
   "id": "cc2126d1-d311-41f9-ab90-5553d083bba6",
   "metadata": {},
   "source": [
    "# Countdown Numbers Game\n",
    "\n",
    "***"
   ]
  },
  {
   "cell_type": "code",
   "execution_count": null,
   "id": "e676efb6-6787-4a73-8266-58bd10d412cd",
   "metadata": {},
   "outputs": [],
   "source": []
  },
  {
   "cell_type": "markdown",
   "id": "81ebde99-526a-487b-a6e8-27a514c5d88b",
   "metadata": {},
   "source": [
    "## Overview of Countdown Numbers Game\n",
    "\n",
    "***"
   ]
  },
  {
   "cell_type": "code",
   "execution_count": null,
   "id": "1d0e0eb5-71c7-4c29-891a-a620d40df5b4",
   "metadata": {},
   "outputs": [],
   "source": []
  },
  {
   "cell_type": "code",
   "execution_count": null,
   "id": "3db89268-51e8-4820-90a2-47d05dddb95a",
   "metadata": {},
   "outputs": [],
   "source": []
  },
  {
   "cell_type": "markdown",
   "id": "5fdf1695-5929-49f4-adc5-10501f5256a0",
   "metadata": {},
   "source": [
    "## Complexity of Countdown Numbers Game\n",
    "\n",
    "***"
   ]
  },
  {
   "cell_type": "code",
   "execution_count": null,
   "id": "cdada12f-774a-45f9-b5dc-461d2648a6ba",
   "metadata": {},
   "outputs": [],
   "source": []
  },
  {
   "cell_type": "code",
   "execution_count": null,
   "id": "85148a4c-a78a-48e3-9456-5631c7037efd",
   "metadata": {
    "tags": []
   },
   "outputs": [],
   "source": []
  },
  {
   "cell_type": "markdown",
   "id": "ff91bb94-8cf0-4756-b010-7d3fcbbbc8f9",
   "metadata": {},
   "source": [
    "## Functional Aspect of Code behind Countdown Numbers Game\n",
    "\n",
    "***"
   ]
  },
  {
   "cell_type": "code",
   "execution_count": null,
   "id": "f0d7b07f-1e6e-4c51-887a-5703b410e41c",
   "metadata": {},
   "outputs": [],
   "source": []
  },
  {
   "cell_type": "code",
   "execution_count": null,
   "id": "aab2108e-9ade-4ca9-8099-a76af0d12b37",
   "metadata": {},
   "outputs": [],
   "source": []
  },
  {
   "cell_type": "markdown",
   "id": "edead10a-b55a-4427-8889-cadaf34b74a7",
   "metadata": {},
   "source": [
    "## References\n",
    "\n",
    "***"
   ]
  },
  {
   "cell_type": "code",
   "execution_count": null,
   "id": "62fa4f41-5566-43a2-8c7c-aa4d946a3d2d",
   "metadata": {},
   "outputs": [],
   "source": []
  },
  {
   "cell_type": "code",
   "execution_count": null,
   "id": "e1bd75cb-8615-47b9-aee6-60e0bf2fba0e",
   "metadata": {},
   "outputs": [],
   "source": []
  }
 ],
 "metadata": {
  "kernelspec": {
   "display_name": "Python 3 (ipykernel)",
   "language": "python",
   "name": "python3"
  },
  "language_info": {
   "codemirror_mode": {
    "name": "ipython",
    "version": 3
   },
   "file_extension": ".py",
   "mimetype": "text/x-python",
   "name": "python",
   "nbconvert_exporter": "python",
   "pygments_lexer": "ipython3",
   "version": "3.8.12"
  }
 },
 "nbformat": 4,
 "nbformat_minor": 5
}
