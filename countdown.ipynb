{
 "cells": [
  {
   "cell_type": "markdown",
   "id": "cc2126d1-d311-41f9-ab90-5553d083bba6",
   "metadata": {},
   "source": [
    "# Countdown Numbers Game\n",
    "\n",
    "***"
   ]
  },
  {
   "cell_type": "markdown",
   "id": "41527293-8482-4652-bd16-0c59a0668753",
   "metadata": {},
   "source": [
    "## Example & Explanation\n",
    "Example and Explanation taking from https://wiki.apterous.org/Numbers_game\n",
    "***\n",
    "The Countdown numbers Game is a popular televised gameshow game, this notebook is a replication of the technical and logical side of countdown numbers game. The countdown numbers game involves a board of 24 numbered cards, arranged faced down. The top row contains the large numbers which are 25, 50, 75, 100. The three other rows contain cards with small numbers between 1 and 10 inclusive. A contestant most chose six cards from the 24 cards available to them, the contestant has the option to choose the amount of \"large\" or \"small\" numbered cards, for example they could chose 1 large numbered card and 5 small numbered cards (75, 3, 2, 1, 7, 4). Once the 6 cards are chosen by the contestant, a random 3-digit number is generated called the target number, the target can range from 101 to 999. The contestant has 30 seconds to use the 6 numbers they chose to make the target number or as near as possible.    \n",
    "\n",
    "#### Game Example\n",
    "Six Chosen Numbers: \n",
    "$\n",
    "\\begin{align}\n",
    "  75, 2, 5, 6, 1, 4\n",
    "\\end{align}\n",
    "$ \n",
    "\n",
    "Random Three Digit Target Number: \n",
    "$\n",
    "\\begin{align}\n",
    " 273\n",
    "\\end{align}\n",
    "$ \n",
    "\n",
    "Solution:\n",
    "$\n",
    "\\begin{align}\n",
    " 75 × 4 = 300\n",
    "\\end{align}\n",
    "$ \n",
    "\n",
    "$\n",
    "\\begin{align}\n",
    " 5 × 6 − 2 − 1 = 27\n",
    "\\end{align}\n",
    "$ \n",
    "\n",
    "$\n",
    "\\begin{align}\n",
    " 300 − 27 = 273\n",
    "\\end{align}\n",
    "$\n",
    "\n",
    "The Countdown Numbers Game in this notebook follows the rules that exist in the original countdown numbers game. However, one small change is that the six numbers the player originally was able to choose himself are randomly chosen by the computer. Other than that, the game functions just like the original and follows all rules and concepts correctly."
   ]
  },
  {
   "cell_type": "markdown",
   "id": "81ebde99-526a-487b-a6e8-27a514c5d88b",
   "metadata": {},
   "source": [
    "## Overview of Countdown Numbers Game\n",
    "\n",
    "***"
   ]
  },
  {
   "cell_type": "code",
   "execution_count": 1,
   "id": "eed5d002-4f81-452f-af78-625b7d524e83",
   "metadata": {},
   "outputs": [],
   "source": [
    "#Imports\n",
    "\n",
    "# Permutations and combinations.\n",
    "import itertools as it\n",
    "\n",
    "# Random number generation.\n",
    "import random\n",
    "\n",
    "# Operators as functions.\n",
    "import operator"
   ]
  },
  {
   "cell_type": "code",
   "execution_count": 2,
   "id": "1d0e0eb5-71c7-4c29-891a-a620d40df5b4",
   "metadata": {},
   "outputs": [],
   "source": [
    "# Generate Random Game Numbers\n",
    "def new_numbers_game(no_large=None):\n",
    "  # Returns six numbers and a target number representing a Countdown numbers game.\n",
    "  \n",
    "  # If no_large in None, randomly pick value between 0 and 4 inclusive.\n",
    "  if no_large is None:\n",
    "    # Randomly set the value.\n",
    "    no_large = random.randrange(0, 5)\n",
    "  \n",
    "  # Select random large numbers.\n",
    "  large_rand = random.sample([25, 50, 75, 100], no_large)\n",
    "  # Select random small numbers.\n",
    "  small_rand = random.sample(list(range(1, 11)) * 2, 6 - no_large)\n",
    "  # The playing numbers.\n",
    "  play_nos = large_rand + small_rand\n",
    "\n",
    "  # Select a target number.\n",
    "  target = random.randrange(101, 1000)\n",
    "\n",
    "  # Return the game.\n",
    "  return play_nos, target"
   ]
  },
  {
   "cell_type": "code",
   "execution_count": 3,
   "id": "3db89268-51e8-4820-90a2-47d05dddb95a",
   "metadata": {},
   "outputs": [],
   "source": [
    "# Random nubmers game.\n",
    "gameNumbers = new_numbers_game()"
   ]
  },
  {
   "cell_type": "code",
   "execution_count": 4,
   "id": "9694086e-dfde-4ae8-aad5-9ddbc72d2337",
   "metadata": {},
   "outputs": [
    {
     "data": {
      "text/plain": [
       "[100, 50, 1, 4, 6, 7]"
      ]
     },
     "execution_count": 4,
     "metadata": {},
     "output_type": "execute_result"
    }
   ],
   "source": [
    "gameNumbers[0]"
   ]
  },
  {
   "cell_type": "code",
   "execution_count": 5,
   "id": "3fa10b47-b010-44c8-b7e2-c9ecccab06bf",
   "metadata": {
    "tags": []
   },
   "outputs": [
    {
     "data": {
      "text/plain": [
       "667"
      ]
     },
     "execution_count": 5,
     "metadata": {},
     "output_type": "execute_result"
    }
   ],
   "source": [
    "gameNumbers[1]"
   ]
  },
  {
   "cell_type": "code",
   "execution_count": 6,
   "id": "717187e0-df19-4f85-8cb4-9c35e084ee99",
   "metadata": {},
   "outputs": [],
   "source": [
    "operators = [operator.add, operator.mul, operator.sub, operator.add, operator.add]"
   ]
  },
  {
   "cell_type": "code",
   "execution_count": 7,
   "id": "d75d02bd-4df2-479f-b86a-33b815297e11",
   "metadata": {},
   "outputs": [
    {
     "name": "stdout",
     "output_type": "stream",
     "text": [
      "50 <built-in function mul> 6\n",
      "50 <built-in function mul> 6\n",
      "50 <built-in function mul> 6\n",
      "50 <built-in function mul> 6\n",
      "50 <built-in function mul> 6\n",
      "50 <built-in function mul> 6\n",
      "50 <built-in function mul> 6\n",
      "50 <built-in function mul> 6\n",
      "50 <built-in function mul> 6\n",
      "50 <built-in function mul> 6\n",
      "50 <built-in function mul> 6\n",
      "50 <built-in function mul> 6\n",
      "50 <built-in function mul> 6\n",
      "50 <built-in function mul> 6\n",
      "50 <built-in function mul> 6\n",
      "50 <built-in function mul> 6\n",
      "50 <built-in function mul> 6\n",
      "50 <built-in function mul> 6\n",
      "50 <built-in function mul> 6\n",
      "50 <built-in function mul> 6\n",
      "50 <built-in function mul> 6\n",
      "50 <built-in function mul> 6\n",
      "50 <built-in function mul> 6\n",
      "50 <built-in function mul> 6\n",
      "6 <built-in function mul> 50\n",
      "6 <built-in function mul> 50\n",
      "6 <built-in function mul> 50\n",
      "6 <built-in function mul> 50\n",
      "6 <built-in function mul> 50\n",
      "6 <built-in function mul> 50\n",
      "6 <built-in function mul> 50\n",
      "6 <built-in function mul> 50\n",
      "6 <built-in function mul> 50\n",
      "6 <built-in function mul> 50\n",
      "6 <built-in function mul> 50\n",
      "6 <built-in function mul> 50\n",
      "6 <built-in function mul> 50\n",
      "6 <built-in function mul> 50\n",
      "6 <built-in function mul> 50\n",
      "6 <built-in function mul> 50\n",
      "6 <built-in function mul> 50\n",
      "6 <built-in function mul> 50\n",
      "6 <built-in function mul> 50\n",
      "6 <built-in function mul> 50\n",
      "6 <built-in function mul> 50\n",
      "6 <built-in function mul> 50\n",
      "6 <built-in function mul> 50\n",
      "6 <built-in function mul> 50\n"
     ]
    }
   ],
   "source": [
    "# Operators.\n",
    "ops = [operator.add, operator.sub, operator.mul, operator.truediv]\n",
    "\n",
    "# All pair, op combs that hit target.\n",
    "for nos, op in it.product(it.permutations(gameNumbers[0], 6), ops):\n",
    "    #print(nos[0],nos[1],op(nos[0], nos[1]))\n",
    "    \n",
    "    if op(nos[0], nos[1]) == 300:\n",
    "        print(nos[0], str(op), nos[1])"
   ]
  },
  {
   "cell_type": "code",
   "execution_count": 8,
   "id": "d0b98139-3fec-41e4-8d5a-fbb4705e9f17",
   "metadata": {},
   "outputs": [],
   "source": [
    "# Give all 2-partitions of a list\n",
    "# where each sublist has  one element.\n",
    "def patterns(numbers, operators):\n",
    "  # Check if there is no way to partition further.\n",
    "  if len(numbers) == 1:\n",
    "    yield numbers\n",
    "  # Loop through all the ways to partition L into two non-empty sublists.\n",
    "  for i in range(1, len(numbers)):\n",
    "    # Slice the list using i.\n",
    "    for left, right in it.product(patterns(numbers[:i], operators[1:i]), patterns(numbers[i:], operators[i:])):\n",
    "      # Yield the next operator applied to the sublists.\n",
    "      yield [*left, *right, operators[0]]"
   ]
  },
  {
   "cell_type": "code",
   "execution_count": 9,
   "id": "ef5b853b-8d70-42b2-b9fb-498df829ed93",
   "metadata": {},
   "outputs": [],
   "source": [
    "# Evaluate RPN expression.\n",
    "def eval_rpn(rpn):\n",
    "  # A stack.\n",
    "  stack = []\n",
    "  # Loop through rpn an item at a time.\n",
    "  for i in rpn:\n",
    "    # Check if it's a number.\n",
    "    if isinstance(i, int):\n",
    "      # Append to the stack.\n",
    "      stack = stack + [i]\n",
    "    else:\n",
    "      # Pop from stack twice.\n",
    "      right = stack[-1]\n",
    "      stack = stack[:-1]\n",
    "      left = stack[-1]\n",
    "      stack = stack[:-1]\n",
    "      # Push operator applied to stack elements.\n",
    "      #print(\"This is i: \", i)\n",
    "      if i == operator.truediv and right == 0:\n",
    "          stack = stack + [0]\n",
    "      else:\n",
    "          stack = stack + [i(left, right)]\n",
    "  # Should only be one item on stack.\n",
    "  return stack[0]"
   ]
  },
  {
   "cell_type": "code",
   "execution_count": 10,
   "id": "ffdd8c67-256f-4a05-b51d-1e4846e39ee6",
   "metadata": {},
   "outputs": [],
   "source": [
    "numbers = [100, 75, 10, 4, 2, 1]"
   ]
  },
  {
   "cell_type": "code",
   "execution_count": 11,
   "id": "5686aa5f-d23d-46d4-bb33-fe6179a8af3d",
   "metadata": {},
   "outputs": [
    {
     "name": "stdout",
     "output_type": "stream",
     "text": [
      "-700 [100, 50, 1, 4, 6, 7, <built-in function add>, <built-in function add>, <built-in function sub>, <built-in function mul>, <built-in function add>]\n",
      "-700 [100, 50, 1, 4, 6, <built-in function add>, 7, <built-in function add>, <built-in function sub>, <built-in function mul>, <built-in function add>]\n",
      "-300 [100, 50, 1, 4, <built-in function add>, 6, 7, <built-in function add>, <built-in function sub>, <built-in function mul>, <built-in function add>]\n",
      "300 [100, 50, 1, 4, 6, <built-in function add>, <built-in function add>, 7, <built-in function sub>, <built-in function mul>, <built-in function add>]\n",
      "300 [100, 50, 1, 4, <built-in function add>, 6, <built-in function add>, 7, <built-in function sub>, <built-in function mul>, <built-in function add>]\n",
      "933 [100, 50, 1, <built-in function sub>, 4, 6, 7, <built-in function add>, <built-in function add>, <built-in function mul>, <built-in function add>]\n",
      "933 [100, 50, 1, <built-in function sub>, 4, 6, <built-in function add>, 7, <built-in function add>, <built-in function mul>, <built-in function add>]\n",
      "685 [100, 50, 1, 4, <built-in function add>, <built-in function sub>, 6, 7, <built-in function add>, <built-in function mul>, <built-in function add>]\n",
      "711 [100, 50, 1, <built-in function add>, 4, <built-in function sub>, 6, 7, <built-in function add>, <built-in function mul>, <built-in function add>]\n",
      "373 [100, 50, 1, 4, 6, <built-in function add>, <built-in function add>, <built-in function sub>, 7, <built-in function mul>, <built-in function add>]\n",
      "373 [100, 50, 1, 4, <built-in function add>, 6, <built-in function add>, <built-in function sub>, 7, <built-in function mul>, <built-in function add>]\n",
      "387 [100, 50, 1, <built-in function add>, 4, 6, <built-in function add>, <built-in function sub>, 7, <built-in function mul>, <built-in function add>]\n",
      "443 [100, 50, 1, 4, <built-in function add>, <built-in function add>, 6, <built-in function sub>, 7, <built-in function mul>, <built-in function add>]\n",
      "443 [100, 50, 1, <built-in function add>, 4, <built-in function add>, 6, <built-in function sub>, 7, <built-in function mul>, <built-in function add>]\n",
      "4984 [100, 50, <built-in function mul>, 1, 4, 6, 7, <built-in function add>, <built-in function add>, <built-in function sub>, <built-in function add>]\n",
      "4984 [100, 50, <built-in function mul>, 1, 4, 6, <built-in function add>, 7, <built-in function add>, <built-in function sub>, <built-in function add>]\n",
      "4992 [100, 50, <built-in function mul>, 1, 4, <built-in function add>, 6, 7, <built-in function add>, <built-in function sub>, <built-in function add>]\n",
      "5004 [100, 50, <built-in function mul>, 1, 4, 6, <built-in function add>, <built-in function add>, 7, <built-in function sub>, <built-in function add>]\n",
      "5004 [100, 50, <built-in function mul>, 1, 4, <built-in function add>, 6, <built-in function add>, 7, <built-in function sub>, <built-in function add>]\n",
      "4917 [100, 50, 1, <built-in function sub>, <built-in function mul>, 4, 6, 7, <built-in function add>, <built-in function add>, <built-in function add>]\n",
      "4917 [100, 50, 1, <built-in function sub>, <built-in function mul>, 4, 6, <built-in function add>, 7, <built-in function add>, <built-in function add>]\n",
      "67 [100, 50, <built-in function sub>, 1, <built-in function mul>, 4, 6, 7, <built-in function add>, <built-in function add>, <built-in function add>]\n",
      "67 [100, 50, <built-in function sub>, 1, <built-in function mul>, 4, 6, <built-in function add>, 7, <built-in function add>, <built-in function add>]\n",
      "4513 [100, 50, 1, 4, <built-in function add>, <built-in function sub>, <built-in function mul>, 6, 7, <built-in function add>, <built-in function add>]\n",
      "4713 [100, 50, 1, <built-in function add>, 4, <built-in function sub>, <built-in function mul>, 6, 7, <built-in function add>, <built-in function add>]\n",
      "263 [100, 50, <built-in function sub>, 1, 4, <built-in function add>, <built-in function mul>, 6, 7, <built-in function add>, <built-in function add>]\n",
      "209 [100, 50, 1, <built-in function add>, <built-in function sub>, 4, <built-in function mul>, 6, 7, <built-in function add>, <built-in function add>]\n",
      "609 [100, 50, <built-in function add>, 1, <built-in function sub>, 4, <built-in function mul>, 6, 7, <built-in function add>, <built-in function add>]\n",
      "3907 [100, 50, 1, 4, 6, <built-in function add>, <built-in function add>, <built-in function sub>, <built-in function mul>, 7, <built-in function add>]\n",
      "3907 [100, 50, 1, 4, <built-in function add>, 6, <built-in function add>, <built-in function sub>, <built-in function mul>, 7, <built-in function add>]\n",
      "4107 [100, 50, 1, <built-in function add>, 4, 6, <built-in function add>, <built-in function sub>, <built-in function mul>, 7, <built-in function add>]\n",
      "4907 [100, 50, 1, 4, <built-in function add>, <built-in function add>, 6, <built-in function sub>, <built-in function mul>, 7, <built-in function add>]\n",
      "4907 [100, 50, 1, <built-in function add>, 4, <built-in function add>, 6, <built-in function sub>, <built-in function mul>, 7, <built-in function add>]\n",
      "557 [100, 50, <built-in function sub>, 1, 4, 6, <built-in function add>, <built-in function add>, <built-in function mul>, 7, <built-in function add>]\n",
      "557 [100, 50, <built-in function sub>, 1, 4, <built-in function add>, 6, <built-in function add>, <built-in function mul>, 7, <built-in function add>]\n",
      "497 [100, 50, 1, <built-in function add>, <built-in function sub>, 4, 6, <built-in function add>, <built-in function mul>, 7, <built-in function add>]\n",
      "1497 [100, 50, <built-in function add>, 1, <built-in function sub>, 4, 6, <built-in function add>, <built-in function mul>, 7, <built-in function add>]\n",
      "277 [100, 50, 1, 4, <built-in function add>, <built-in function add>, <built-in function sub>, 6, <built-in function mul>, 7, <built-in function add>]\n",
      "277 [100, 50, 1, <built-in function add>, 4, <built-in function add>, <built-in function sub>, 6, <built-in function mul>, 7, <built-in function add>]\n",
      "877 [100, 50, <built-in function add>, 1, 4, <built-in function add>, <built-in function sub>, 6, <built-in function mul>, 7, <built-in function add>]\n",
      "889 [100, 50, 1, <built-in function add>, <built-in function add>, 4, <built-in function sub>, 6, <built-in function mul>, 7, <built-in function add>]\n",
      "889 [100, 50, <built-in function add>, 1, <built-in function add>, 4, <built-in function sub>, 6, <built-in function mul>, 7, <built-in function add>]\n"
     ]
    }
   ],
   "source": [
    "# Using eval, which mightn't be great.\n",
    "for i in patterns(gameNumbers[0], operators):\n",
    "  print(eval_rpn(i), i)"
   ]
  },
  {
   "cell_type": "code",
   "execution_count": 35,
   "id": "ca40ef8b-93d0-4667-9d59-c896f4792848",
   "metadata": {},
   "outputs": [],
   "source": [
    "def displayCalculation(cal, temp):\n",
    "    calculation = []\n",
    "    b = 0\n",
    "    print(\"Answer: \", temp, \" = \", end=\"\")\n",
    "    for i in cal:\n",
    "        if i == operator.truediv:\n",
    "            calculation = calculation + [\"/\"]\n",
    "        elif i == operator.sub:\n",
    "            calculation = calculation + [\"-\"]\n",
    "        elif i == operator.add:\n",
    "            calculation = calculation + [\"+\"]\n",
    "        elif i == operator.mul:\n",
    "            calculation = calculation + [\"*\"]\n",
    "        else:\n",
    "            calculation = calculation + [i]\n",
    "            \n",
    "        print(calculation[b], \" \", end=\"\")\n",
    "        b = b + 1       "
   ]
  },
  {
   "cell_type": "code",
   "execution_count": 38,
   "id": "f775692f-8b7c-4a4d-928b-1909fd150e8b",
   "metadata": {},
   "outputs": [
    {
     "name": "stdout",
     "output_type": "stream",
     "text": [
      "Game Numbers:  [100, 50, 1, 4, 6, 7]\n",
      "Target:  667\n",
      "Answer:  667.0  = 100  50  1  4  +  /  +  6  *  7  +  "
     ]
    }
   ],
   "source": [
    "# Operators.\n",
    "ops = [operator.add, operator.sub, operator.mul, operator.truediv]\n",
    "\n",
    "# Limit the output.\n",
    "limit = 1100\n",
    "print(\"Game Numbers: \", gameNumbers[0])\n",
    "print(\"Target: \", gameNumbers[1])\n",
    "# For the limit.\n",
    "i = 0\n",
    "# Orderings of pairs.\n",
    "for play_nos, opers in it.product(it.permutations(gameNumbers[0]), it.product(*([ops] * 5))):\n",
    "  #print(play_nos, opers)\n",
    "  for c in patterns(gameNumbers[0], opers):\n",
    "      \n",
    "      evaluatedNumber = eval_rpn(c)\n",
    "      #print(temp)\n",
    "      if gameNumbers[1] == evaluatedNumber: \n",
    "          #print(\"Complete\", c)\n",
    "          displayCalculation(c, evaluatedNumber)\n",
    "          break\n",
    "  i = i + 1\n",
    "  if i >= limit:\n",
    "    break"
   ]
  },
  {
   "cell_type": "code",
   "execution_count": null,
   "id": "2c46847c-9c60-47c8-a941-998efc227878",
   "metadata": {},
   "outputs": [],
   "source": []
  },
  {
   "cell_type": "markdown",
   "id": "5fdf1695-5929-49f4-adc5-10501f5256a0",
   "metadata": {},
   "source": [
    "## Complexity of Countdown Numbers Game\n",
    "\n",
    "***"
   ]
  },
  {
   "cell_type": "code",
   "execution_count": null,
   "id": "cdada12f-774a-45f9-b5dc-461d2648a6ba",
   "metadata": {},
   "outputs": [],
   "source": []
  },
  {
   "cell_type": "code",
   "execution_count": null,
   "id": "85148a4c-a78a-48e3-9456-5631c7037efd",
   "metadata": {
    "tags": []
   },
   "outputs": [],
   "source": []
  },
  {
   "cell_type": "markdown",
   "id": "ff91bb94-8cf0-4756-b010-7d3fcbbbc8f9",
   "metadata": {},
   "source": [
    "## Functional Programming\n",
    "\n",
    "https://docs.python.org/3/howto/functional.html\n",
    "***\n",
    "\n",
    "### What is Functional Programming?\n",
    "Functional programming is based on producing simplistic reduced functions that focus on an argument and return value. A function in functional programming is not meant to have side effect, you give the function an input and it will return an output without modifying the inputs. This is known as a pure function where the results of the return value are dependent on the input parameter. Functional programming allows for the creation of clean and maintainable software, keeping the data side and functionality independent, avoiding changing state of variables (it’s okay to declare a new variable instead of re-using existing variables) and treating functions as first class meaning treat functions like data, where a function can be assigned to a variable.\n",
    "\n",
    "## Functional Aspect of Code behind Countdown Numbers Game.\n"
   ]
  },
  {
   "cell_type": "code",
   "execution_count": null,
   "id": "f0d7b07f-1e6e-4c51-887a-5703b410e41c",
   "metadata": {},
   "outputs": [],
   "source": []
  },
  {
   "cell_type": "code",
   "execution_count": null,
   "id": "aab2108e-9ade-4ca9-8099-a76af0d12b37",
   "metadata": {},
   "outputs": [],
   "source": []
  },
  {
   "cell_type": "markdown",
   "id": "edead10a-b55a-4427-8889-cadaf34b74a7",
   "metadata": {},
   "source": [
    "## References\n",
    "\n",
    "***"
   ]
  },
  {
   "cell_type": "markdown",
   "id": "554aa710-5b82-4630-a856-441110ac6471",
   "metadata": {},
   "source": [
    " * Numbers Game https://wiki.apterous.org/Numbers_game\n",
    " * Python Functional Programming https://docs.python.org/3/howto/functional.html\n",
    " * Matthew Tyson \"What is functional programming? Apractical guide\" https://www.infoworld.com/article/3613715/what-is-functional-programming-a-practical-guide.html"
   ]
  },
  {
   "cell_type": "code",
   "execution_count": null,
   "id": "e1bd75cb-8615-47b9-aee6-60e0bf2fba0e",
   "metadata": {},
   "outputs": [],
   "source": []
  }
 ],
 "metadata": {
  "kernelspec": {
   "display_name": "Python 3 (ipykernel)",
   "language": "python",
   "name": "python3"
  },
  "language_info": {
   "codemirror_mode": {
    "name": "ipython",
    "version": 3
   },
   "file_extension": ".py",
   "mimetype": "text/x-python",
   "name": "python",
   "nbconvert_exporter": "python",
   "pygments_lexer": "ipython3",
   "version": "3.8.12"
  }
 },
 "nbformat": 4,
 "nbformat_minor": 5
}
