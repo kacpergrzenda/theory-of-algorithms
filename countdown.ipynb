{
 "cells": [
  {
   "cell_type": "markdown",
   "id": "cc2126d1-d311-41f9-ab90-5553d083bba6",
   "metadata": {},
   "source": [
    "# Countdown Numbers Game\n",
    "\n",
    "***"
   ]
  },
  {
   "cell_type": "markdown",
   "id": "41527293-8482-4652-bd16-0c59a0668753",
   "metadata": {},
   "source": [
    "## Example & Explanation\n",
    "Example and Explanation taking from https://wiki.apterous.org/Numbers_game\n",
    "***\n",
    "The Countdown numbers Game is a popular televised gameshow game, this notebook is a replication of the technical and logical side of countdown numbers game. The countdown numbers game involves a board of 24 numbered cards, arranged faced down. The top row contains the large numbers which are 25, 50, 75, 100. The three other rows contain cards with small numbers between 1 and 10 inclusive. A contestant most chose six cards from the 24 cards available to them, the contestant has the option to choose the amount of \"large\" or \"small\" numbered cards, for example they could chose 1 large numbered card and 5 small numbered cards (75, 3, 2, 1, 7, 4). Once the 6 cards are chosen by the contestant, a random 3-digit number is generated called the target number, the target can range from 101 to 999. The contestant has 30 seconds to use the 6 numbers they chose to make the target number or as near as possible.    \n",
    "\n",
    "#### Game Example\n",
    "Six Chosen Numbers: \n",
    "$\n",
    "\\begin{align}\n",
    "  75, 2, 5, 6, 1, 4\n",
    "\\end{align}\n",
    "$ \n",
    "\n",
    "Random Three Digit Target Number: \n",
    "$\n",
    "\\begin{align}\n",
    " 273\n",
    "\\end{align}\n",
    "$ \n",
    "\n",
    "Solution:\n",
    "$\n",
    "\\begin{align}\n",
    " 75 × 4 = 300\n",
    "\\end{align}\n",
    "$ \n",
    "\n",
    "$\n",
    "\\begin{align}\n",
    " 5 × 6 − 2 − 1 = 27\n",
    "\\end{align}\n",
    "$ \n",
    "\n",
    "$\n",
    "\\begin{align}\n",
    " 300 − 27 = 273\n",
    "\\end{align}\n",
    "$\n",
    "\n",
    "The Countdown Numbers Game in this notebook follows the rules that exist in the original countdown numbers game. However, one small change is that the six numbers the player originally was able to choose himself are randomly chosen by the computer. Other than that, the game functions just like the original and follows all rules and concepts correctly."
   ]
  },
  {
   "cell_type": "markdown",
   "id": "81ebde99-526a-487b-a6e8-27a514c5d88b",
   "metadata": {},
   "source": [
    "## Overview of Countdown Numbers Game\n",
    "\n",
    "***"
   ]
  },
  {
   "cell_type": "code",
   "execution_count": 1,
   "id": "eed5d002-4f81-452f-af78-625b7d524e83",
   "metadata": {},
   "outputs": [],
   "source": [
    "#Imports\n",
    "\n",
    "# Permutations and combinations.\n",
    "import itertools as it\n",
    "\n",
    "# Random number generation.\n",
    "import random\n",
    "\n",
    "# Operators as functions.\n",
    "import operator"
   ]
  },
  {
   "cell_type": "code",
   "execution_count": 2,
   "id": "1d0e0eb5-71c7-4c29-891a-a620d40df5b4",
   "metadata": {},
   "outputs": [],
   "source": [
    "# Generate Random Game Numbers\n",
    "def new_numbers_game(no_large=None):\n",
    "  # Returns six numbers and a target number representing a Countdown numbers game.\n",
    "  \n",
    "  # If no_large in None, randomly pick value between 0 and 4 inclusive.\n",
    "  if no_large is None:\n",
    "    # Randomly set the value.\n",
    "    no_large = random.randrange(0, 5)\n",
    "  \n",
    "  # Select random large numbers.\n",
    "  large_rand = random.sample([25, 50, 75, 100], no_large)\n",
    "  # Select random small numbers.\n",
    "  small_rand = random.sample(list(range(1, 11)) * 2, 6 - no_large)\n",
    "  # The playing numbers.\n",
    "  play_nos = large_rand + small_rand\n",
    "\n",
    "  # Select a target number.\n",
    "  target = random.randrange(101, 1000)\n",
    "\n",
    "  # Return the game.\n",
    "  return play_nos, target"
   ]
  },
  {
   "cell_type": "code",
   "execution_count": 3,
   "id": "3db89268-51e8-4820-90a2-47d05dddb95a",
   "metadata": {},
   "outputs": [],
   "source": [
    "# Random nubmers game.\n",
    "gameNumbers = new_numbers_game()"
   ]
  },
  {
   "cell_type": "code",
   "execution_count": 4,
   "id": "9694086e-dfde-4ae8-aad5-9ddbc72d2337",
   "metadata": {},
   "outputs": [
    {
     "data": {
      "text/plain": [
       "[5, 5, 3, 4, 8, 9]"
      ]
     },
     "execution_count": 4,
     "metadata": {},
     "output_type": "execute_result"
    }
   ],
   "source": [
    "gameNumbers[0]"
   ]
  },
  {
   "cell_type": "code",
   "execution_count": 5,
   "id": "3fa10b47-b010-44c8-b7e2-c9ecccab06bf",
   "metadata": {
    "tags": []
   },
   "outputs": [
    {
     "data": {
      "text/plain": [
       "417"
      ]
     },
     "execution_count": 5,
     "metadata": {},
     "output_type": "execute_result"
    }
   ],
   "source": [
    "gameNumbers[1]"
   ]
  },
  {
   "cell_type": "code",
   "execution_count": 6,
   "id": "717187e0-df19-4f85-8cb4-9c35e084ee99",
   "metadata": {},
   "outputs": [],
   "source": [
    "operators = [operator.add, operator.mul, operator.sub, operator.add, operator.add]"
   ]
  },
  {
   "cell_type": "code",
   "execution_count": 7,
   "id": "d75d02bd-4df2-479f-b86a-33b815297e11",
   "metadata": {},
   "outputs": [],
   "source": [
    "# Operators.\n",
    "ops = [operator.add, operator.sub, operator.mul, operator.truediv]\n",
    "\n",
    "# All pair, op combs that hit target.\n",
    "for nos, op in it.product(it.permutations(gameNumbers[0], 6), ops):\n",
    "    #print(nos[0],nos[1],op(nos[0], nos[1]))\n",
    "    \n",
    "    if op(nos[0], nos[1]) == 300:\n",
    "        print(nos[0], str(op), nos[1])"
   ]
  },
  {
   "cell_type": "code",
   "execution_count": null,
   "id": "6e386a6a-1a27-4cb5-a6d2-e70f5726fe6b",
   "metadata": {},
   "outputs": [],
   "source": []
  },
  {
   "cell_type": "code",
   "execution_count": null,
   "id": "0b8f50c6-843e-4945-abfe-3e29dec6906a",
   "metadata": {},
   "outputs": [],
   "source": []
  },
  {
   "cell_type": "code",
   "execution_count": 8,
   "id": "d0b98139-3fec-41e4-8d5a-fbb4705e9f17",
   "metadata": {},
   "outputs": [],
   "source": [
    "# Give all 2-partitions of a list\n",
    "# where each sublist has  one element.\n",
    "def patterns(numbers, operators):\n",
    "  # Check if there is no way to partition further.\n",
    "  if len(numbers) == 1:\n",
    "    yield numbers\n",
    "  # Loop through all the ways to partition L into two non-empty sublists.\n",
    "  for i in range(1, len(numbers)):\n",
    "    # Slice the list using i.\n",
    "    for left, right in it.product(patterns(numbers[:i], operators[1:i]), patterns(numbers[i:], operators[i:])):\n",
    "      # Yield the next operator applied to the sublists.\n",
    "      yield [*left, *right, operators[0]]"
   ]
  },
  {
   "cell_type": "code",
   "execution_count": 9,
   "id": "ef5b853b-8d70-42b2-b9fb-498df829ed93",
   "metadata": {},
   "outputs": [],
   "source": [
    "# Evaluate RPN expression.\n",
    "def eval_rpn(rpn):\n",
    "  # A stack.\n",
    "  stack = []\n",
    "  # Loop through rpn an item at a time.\n",
    "  for i in rpn:\n",
    "    # Check if it's a number.\n",
    "    if isinstance(i, int):\n",
    "      # Append to the stack.\n",
    "      stack = stack + [i]\n",
    "    else:\n",
    "      # Pop from stack twice.\n",
    "      right = stack[-1]\n",
    "      stack = stack[:-1]\n",
    "      left = stack[-1]\n",
    "      stack = stack[:-1]\n",
    "      # Push operator applied to stack elements.\n",
    "      #print(\"This is i: \", i)\n",
    "      if i == operator.truediv and right == 0:\n",
    "          stack = stack + [0]\n",
    "      else:\n",
    "          stack = stack + [i(left, right)]\n",
    "  # Should only be one item on stack.\n",
    "  return stack[0]"
   ]
  },
  {
   "cell_type": "code",
   "execution_count": 10,
   "id": "ffdd8c67-256f-4a05-b51d-1e4846e39ee6",
   "metadata": {},
   "outputs": [],
   "source": [
    "numbers = [100, 75, 10, 4, 2, 1]"
   ]
  },
  {
   "cell_type": "code",
   "execution_count": 11,
   "id": "5686aa5f-d23d-46d4-bb33-fe6179a8af3d",
   "metadata": {},
   "outputs": [
    {
     "name": "stdout",
     "output_type": "stream",
     "text": [
      "-85 [5, 5, 3, 4, 8, 9, <built-in function add>, <built-in function add>, <built-in function sub>, <built-in function mul>, <built-in function add>]\n",
      "-85 [5, 5, 3, 4, 8, <built-in function add>, 9, <built-in function add>, <built-in function sub>, <built-in function mul>, <built-in function add>]\n",
      "-45 [5, 5, 3, 4, <built-in function add>, 8, 9, <built-in function add>, <built-in function sub>, <built-in function mul>, <built-in function add>]\n",
      "35 [5, 5, 3, 4, 8, <built-in function add>, <built-in function add>, 9, <built-in function sub>, <built-in function mul>, <built-in function add>]\n",
      "35 [5, 5, 3, 4, <built-in function add>, 8, <built-in function add>, 9, <built-in function sub>, <built-in function mul>, <built-in function add>]\n",
      "47 [5, 5, 3, <built-in function sub>, 4, 8, 9, <built-in function add>, <built-in function add>, <built-in function mul>, <built-in function add>]\n",
      "47 [5, 5, 3, <built-in function sub>, 4, 8, <built-in function add>, 9, <built-in function add>, <built-in function mul>, <built-in function add>]\n",
      "-29 [5, 5, 3, 4, <built-in function add>, <built-in function sub>, 8, 9, <built-in function add>, <built-in function mul>, <built-in function add>]\n",
      "73 [5, 5, 3, <built-in function add>, 4, <built-in function sub>, 8, 9, <built-in function add>, <built-in function mul>, <built-in function add>]\n",
      "-85 [5, 5, 3, 4, 8, <built-in function add>, <built-in function add>, <built-in function sub>, 9, <built-in function mul>, <built-in function add>]\n",
      "-85 [5, 5, 3, 4, <built-in function add>, 8, <built-in function add>, <built-in function sub>, 9, <built-in function mul>, <built-in function add>]\n",
      "-31 [5, 5, 3, <built-in function add>, 4, 8, <built-in function add>, <built-in function sub>, 9, <built-in function mul>, <built-in function add>]\n",
      "41 [5, 5, 3, 4, <built-in function add>, <built-in function add>, 8, <built-in function sub>, 9, <built-in function mul>, <built-in function add>]\n",
      "41 [5, 5, 3, <built-in function add>, 4, <built-in function add>, 8, <built-in function sub>, 9, <built-in function mul>, <built-in function add>]\n",
      "7 [5, 5, <built-in function mul>, 3, 4, 8, 9, <built-in function add>, <built-in function add>, <built-in function sub>, <built-in function add>]\n",
      "7 [5, 5, <built-in function mul>, 3, 4, 8, <built-in function add>, 9, <built-in function add>, <built-in function sub>, <built-in function add>]\n",
      "15 [5, 5, <built-in function mul>, 3, 4, <built-in function add>, 8, 9, <built-in function add>, <built-in function sub>, <built-in function add>]\n",
      "31 [5, 5, <built-in function mul>, 3, 4, 8, <built-in function add>, <built-in function add>, 9, <built-in function sub>, <built-in function add>]\n",
      "31 [5, 5, <built-in function mul>, 3, 4, <built-in function add>, 8, <built-in function add>, 9, <built-in function sub>, <built-in function add>]\n",
      "31 [5, 5, 3, <built-in function sub>, <built-in function mul>, 4, 8, 9, <built-in function add>, <built-in function add>, <built-in function add>]\n",
      "31 [5, 5, 3, <built-in function sub>, <built-in function mul>, 4, 8, <built-in function add>, 9, <built-in function add>, <built-in function add>]\n",
      "21 [5, 5, <built-in function sub>, 3, <built-in function mul>, 4, 8, 9, <built-in function add>, <built-in function add>, <built-in function add>]\n",
      "21 [5, 5, <built-in function sub>, 3, <built-in function mul>, 4, 8, <built-in function add>, 9, <built-in function add>, <built-in function add>]\n",
      "7 [5, 5, 3, 4, <built-in function add>, <built-in function sub>, <built-in function mul>, 8, 9, <built-in function add>, <built-in function add>]\n",
      "37 [5, 5, 3, <built-in function add>, 4, <built-in function sub>, <built-in function mul>, 8, 9, <built-in function add>, <built-in function add>]\n",
      "17 [5, 5, <built-in function sub>, 3, 4, <built-in function add>, <built-in function mul>, 8, 9, <built-in function add>, <built-in function add>]\n",
      "5 [5, 5, 3, <built-in function add>, <built-in function sub>, 4, <built-in function mul>, 8, 9, <built-in function add>, <built-in function add>]\n",
      "45 [5, 5, <built-in function add>, 3, <built-in function sub>, 4, <built-in function mul>, 8, 9, <built-in function add>, <built-in function add>]\n",
      "-41 [5, 5, 3, 4, 8, <built-in function add>, <built-in function add>, <built-in function sub>, <built-in function mul>, 9, <built-in function add>]\n",
      "-41 [5, 5, 3, 4, <built-in function add>, 8, <built-in function add>, <built-in function sub>, <built-in function mul>, 9, <built-in function add>]\n",
      "-11 [5, 5, 3, <built-in function add>, 4, 8, <built-in function add>, <built-in function sub>, <built-in function mul>, 9, <built-in function add>]\n",
      "29 [5, 5, 3, 4, <built-in function add>, <built-in function add>, 8, <built-in function sub>, <built-in function mul>, 9, <built-in function add>]\n",
      "29 [5, 5, 3, <built-in function add>, 4, <built-in function add>, 8, <built-in function sub>, <built-in function mul>, 9, <built-in function add>]\n",
      "9 [5, 5, <built-in function sub>, 3, 4, 8, <built-in function add>, <built-in function add>, <built-in function mul>, 9, <built-in function add>]\n",
      "9 [5, 5, <built-in function sub>, 3, 4, <built-in function add>, 8, <built-in function add>, <built-in function mul>, 9, <built-in function add>]\n",
      "-27 [5, 5, 3, <built-in function add>, <built-in function sub>, 4, 8, <built-in function add>, <built-in function mul>, 9, <built-in function add>]\n",
      "93 [5, 5, <built-in function add>, 3, <built-in function sub>, 4, 8, <built-in function add>, <built-in function mul>, 9, <built-in function add>]\n",
      "-47 [5, 5, 3, 4, <built-in function add>, <built-in function add>, <built-in function sub>, 8, <built-in function mul>, 9, <built-in function add>]\n",
      "-47 [5, 5, 3, <built-in function add>, 4, <built-in function add>, <built-in function sub>, 8, <built-in function mul>, 9, <built-in function add>]\n",
      "33 [5, 5, <built-in function add>, 3, 4, <built-in function add>, <built-in function sub>, 8, <built-in function mul>, 9, <built-in function add>]\n",
      "81 [5, 5, 3, <built-in function add>, <built-in function add>, 4, <built-in function sub>, 8, <built-in function mul>, 9, <built-in function add>]\n",
      "81 [5, 5, <built-in function add>, 3, <built-in function add>, 4, <built-in function sub>, 8, <built-in function mul>, 9, <built-in function add>]\n"
     ]
    }
   ],
   "source": [
    "# Using eval, which mightn't be great.\n",
    "for i in patterns(gameNumbers[0], operators):\n",
    "  print(eval_rpn(i), i)"
   ]
  },
  {
   "cell_type": "code",
   "execution_count": 12,
   "id": "f775692f-8b7c-4a4d-928b-1909fd150e8b",
   "metadata": {},
   "outputs": [
    {
     "name": "stdout",
     "output_type": "stream",
     "text": [
      "Game Numbers:  [5, 5, 3, 4, 8, 9]\n",
      "Target:  417\n"
     ]
    }
   ],
   "source": [
    "# Operators.\n",
    "ops = [operator.add, operator.sub, operator.mul, operator.truediv]\n",
    "\n",
    "# Limit the output.\n",
    "limit = 1100\n",
    "print(\"Game Numbers: \", gameNumbers[0])\n",
    "print(\"Target: \", gameNumbers[1])\n",
    "# For the limit.\n",
    "i = 0\n",
    "# Orderings of pairs.\n",
    "for play_nos, opers in it.product(it.permutations(gameNumbers[0]), it.product(*([ops] * 5))):\n",
    "  #print(play_nos, opers)\n",
    "  for c in patterns(gameNumbers[0], opers):\n",
    "      \n",
    "      temp = eval_rpn(c)\n",
    "      #print(temp)\n",
    "      if gameNumbers[1] == temp:\n",
    "          print(\"Complete\", c)\n",
    "          break\n",
    "  i = i + 1\n",
    "  if i >= limit:\n",
    "    break"
   ]
  },
  {
   "cell_type": "code",
   "execution_count": null,
   "id": "2c46847c-9c60-47c8-a941-998efc227878",
   "metadata": {},
   "outputs": [],
   "source": []
  },
  {
   "cell_type": "markdown",
   "id": "5fdf1695-5929-49f4-adc5-10501f5256a0",
   "metadata": {},
   "source": [
    "## Complexity of Countdown Numbers Game\n",
    "\n",
    "***"
   ]
  },
  {
   "cell_type": "code",
   "execution_count": null,
   "id": "cdada12f-774a-45f9-b5dc-461d2648a6ba",
   "metadata": {},
   "outputs": [],
   "source": []
  },
  {
   "cell_type": "code",
   "execution_count": null,
   "id": "85148a4c-a78a-48e3-9456-5631c7037efd",
   "metadata": {
    "tags": []
   },
   "outputs": [],
   "source": []
  },
  {
   "cell_type": "markdown",
   "id": "ff91bb94-8cf0-4756-b010-7d3fcbbbc8f9",
   "metadata": {},
   "source": [
    "## Functional Aspect of Code behind Countdown Numbers Game\n",
    "\n",
    "***"
   ]
  },
  {
   "cell_type": "code",
   "execution_count": null,
   "id": "f0d7b07f-1e6e-4c51-887a-5703b410e41c",
   "metadata": {},
   "outputs": [],
   "source": []
  },
  {
   "cell_type": "code",
   "execution_count": null,
   "id": "aab2108e-9ade-4ca9-8099-a76af0d12b37",
   "metadata": {},
   "outputs": [],
   "source": []
  },
  {
   "cell_type": "markdown",
   "id": "edead10a-b55a-4427-8889-cadaf34b74a7",
   "metadata": {},
   "source": [
    "## References\n",
    "\n",
    "***"
   ]
  },
  {
   "cell_type": "markdown",
   "id": "554aa710-5b82-4630-a856-441110ac6471",
   "metadata": {},
   "source": [
    " * Numbers Game https://wiki.apterous.org/Numbers_game"
   ]
  },
  {
   "cell_type": "code",
   "execution_count": null,
   "id": "e1bd75cb-8615-47b9-aee6-60e0bf2fba0e",
   "metadata": {},
   "outputs": [],
   "source": []
  }
 ],
 "metadata": {
  "kernelspec": {
   "display_name": "Python 3 (ipykernel)",
   "language": "python",
   "name": "python3"
  },
  "language_info": {
   "codemirror_mode": {
    "name": "ipython",
    "version": 3
   },
   "file_extension": ".py",
   "mimetype": "text/x-python",
   "name": "python",
   "nbconvert_exporter": "python",
   "pygments_lexer": "ipython3",
   "version": "3.8.12"
  }
 },
 "nbformat": 4,
 "nbformat_minor": 5
}
